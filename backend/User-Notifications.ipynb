{
 "cells": [
  {
   "cell_type": "code",
   "execution_count": 72,
   "metadata": {},
   "outputs": [
    {
     "name": "stdout",
     "output_type": "stream",
     "text": [
      "Requirement already satisfied: beautifulsoup4 in /usr/local/lib/python3.6/site-packages (4.6.0)\n",
      "Requirement already satisfied: requests in /usr/local/lib/python3.6/site-packages (2.11.1)\n",
      "Requirement already satisfied: lxml in /usr/local/lib/python3.6/site-packages (3.7.2)\n"
     ]
    }
   ],
   "source": [
    "!pip3 install beautifulsoup4\n",
    "!pip3 install requests\n",
    "!pip3 install lxml"
   ]
  },
  {
   "cell_type": "code",
   "execution_count": 153,
   "metadata": {},
   "outputs": [],
   "source": [
    "from bs4 import BeautifulSoup\n",
    "import requests\n",
    "from datetime import datetime"
   ]
  },
  {
   "cell_type": "code",
   "execution_count": 154,
   "metadata": {},
   "outputs": [],
   "source": [
    "import pymysql"
   ]
  },
  {
   "cell_type": "code",
   "execution_count": 155,
   "metadata": {},
   "outputs": [],
   "source": [
    "db = pymysql.connect(host='localhost',\n",
    "                             user='root',\n",
    "                             password='',\n",
    "                             db='db',\n",
    "                             charset='utf8mb4',\n",
    "                             cursorclass=pymysql.cursors.DictCursor)\n",
    "cursor = db.cursor()"
   ]
  },
  {
   "cell_type": "code",
   "execution_count": 156,
   "metadata": {},
   "outputs": [
    {
     "data": {
      "text/plain": [
       "[{'id': 1,\n",
       "  'threshold': 'extremely heavy',\n",
       "  'allergen_name': 'oak',\n",
       "  'user_id': 5},\n",
       " {'id': 2,\n",
       "  'threshold': 'extremely heavy',\n",
       "  'allergen_name': 'birch',\n",
       "  'user_id': 5},\n",
       " {'id': 3, 'threshold': 'heavy', 'allergen_name': 'oak', 'user_id': 6},\n",
       " {'id': 4, 'threshold': 'heavy', 'allergen_name': 'birch', 'user_id': 6},\n",
       " {'id': 5, 'threshold': 'medium', 'allergen_name': 'oak', 'user_id': 7},\n",
       " {'id': 6, 'threshold': 'medium', 'allergen_name': 'birch', 'user_id': 7},\n",
       " {'id': 7, 'threshold': 'medium', 'allergen_name': 'hickory', 'user_id': 7},\n",
       " {'id': 8, 'threshold': 'low', 'allergen_name': 'oak', 'user_id': 8},\n",
       " {'id': 9, 'threshold': 'low', 'allergen_name': 'birch', 'user_id': 8},\n",
       " {'id': 10, 'threshold': 'low', 'allergen_name': 'hickory', 'user_id': 8}]"
      ]
     },
     "execution_count": 156,
     "metadata": {},
     "output_type": "execute_result"
    }
   ],
   "source": [
    "cursor.execute(\"\"\"select * from subscriptions\"\"\")\n",
    "cursor.fetchall()"
   ]
  },
  {
   "cell_type": "code",
   "execution_count": null,
   "metadata": {},
   "outputs": [],
   "source": []
  },
  {
   "cell_type": "code",
   "execution_count": 157,
   "metadata": {},
   "outputs": [
    {
     "data": {
      "text/plain": [
       "[{'allergen_id': 197,\n",
       "  'allergen_type': 'TREE',\n",
       "  'allergen_name': 'maple',\n",
       "  'count': 0,\n",
       "  'created_date': datetime.datetime(2018, 5, 18, 18, 56, 20)},\n",
       " {'allergen_id': 198,\n",
       "  'allergen_type': 'TREE',\n",
       "  'allergen_name': 'mulberry',\n",
       "  'count': 0,\n",
       "  'created_date': datetime.datetime(2018, 5, 18, 18, 56, 20)},\n",
       " {'allergen_id': 199,\n",
       "  'allergen_type': 'TREE',\n",
       "  'allergen_name': 'alder',\n",
       "  'count': 0,\n",
       "  'created_date': datetime.datetime(2018, 5, 18, 18, 56, 20)},\n",
       " {'allergen_id': 200,\n",
       "  'allergen_type': 'TREE',\n",
       "  'allergen_name': 'pine',\n",
       "  'count': 2,\n",
       "  'created_date': datetime.datetime(2018, 5, 18, 18, 56, 20)},\n",
       " {'allergen_id': 201,\n",
       "  'allergen_type': 'TREE',\n",
       "  'allergen_name': 'birch',\n",
       "  'count': 0,\n",
       "  'created_date': datetime.datetime(2018, 5, 18, 18, 56, 20)},\n",
       " {'allergen_id': 202,\n",
       "  'allergen_type': 'TREE',\n",
       "  'allergen_name': 'sycamore',\n",
       "  'count': 0,\n",
       "  'created_date': datetime.datetime(2018, 5, 18, 18, 56, 20)},\n",
       " {'allergen_id': 203,\n",
       "  'allergen_type': 'TREE',\n",
       "  'allergen_name': 'hickory,',\n",
       "  'count': 6,\n",
       "  'created_date': datetime.datetime(2018, 5, 18, 18, 56, 20)},\n",
       " {'allergen_id': 204,\n",
       "  'allergen_type': 'TREE',\n",
       "  'allergen_name': 'cottonwood',\n",
       "  'count': 0,\n",
       "  'created_date': datetime.datetime(2018, 5, 18, 18, 56, 20)},\n",
       " {'allergen_id': 205,\n",
       "  'allergen_type': 'TREE',\n",
       "  'allergen_name': 'hackberry',\n",
       "  'count': 0,\n",
       "  'created_date': datetime.datetime(2018, 5, 18, 18, 56, 20)},\n",
       " {'allergen_id': 206,\n",
       "  'allergen_type': 'TREE',\n",
       "  'allergen_name': 'oak',\n",
       "  'count': 0,\n",
       "  'created_date': datetime.datetime(2018, 5, 18, 18, 56, 20)},\n",
       " {'allergen_id': 207,\n",
       "  'allergen_type': 'TREE',\n",
       "  'allergen_name': 'hazelnut',\n",
       "  'count': 0,\n",
       "  'created_date': datetime.datetime(2018, 5, 18, 18, 56, 20)},\n",
       " {'allergen_id': 208,\n",
       "  'allergen_type': 'TREE',\n",
       "  'allergen_name': 'willow',\n",
       "  'count': 0,\n",
       "  'created_date': datetime.datetime(2018, 5, 18, 18, 56, 20)},\n",
       " {'allergen_id': 209,\n",
       "  'allergen_type': 'TREE',\n",
       "  'allergen_name': 'cedar',\n",
       "  'count': 0,\n",
       "  'created_date': datetime.datetime(2018, 5, 18, 18, 56, 20)},\n",
       " {'allergen_id': 210,\n",
       "  'allergen_type': 'TREE',\n",
       "  'allergen_name': 'linden',\n",
       "  'count': 0,\n",
       "  'created_date': datetime.datetime(2018, 5, 18, 18, 56, 20)},\n",
       " {'allergen_id': 211,\n",
       "  'allergen_type': 'TREE',\n",
       "  'allergen_name': 'ash',\n",
       "  'count': 0,\n",
       "  'created_date': datetime.datetime(2018, 5, 18, 18, 56, 20)},\n",
       " {'allergen_id': 212,\n",
       "  'allergen_type': 'TREE',\n",
       "  'allergen_name': 'elm',\n",
       "  'count': 0,\n",
       "  'created_date': datetime.datetime(2018, 5, 18, 18, 56, 20)},\n",
       " {'allergen_id': 213,\n",
       "  'allergen_type': 'TREE',\n",
       "  'allergen_name': 'walnut',\n",
       "  'count': 0,\n",
       "  'created_date': datetime.datetime(2018, 5, 18, 18, 56, 20)},\n",
       " {'allergen_id': 214,\n",
       "  'allergen_type': 'TREE',\n",
       "  'allergen_name': 'sweet',\n",
       "  'count': 0,\n",
       "  'created_date': datetime.datetime(2018, 5, 18, 18, 56, 20)},\n",
       " {'allergen_id': 215,\n",
       "  'allergen_type': 'TREE',\n",
       "  'allergen_name': 'other tree',\n",
       "  'count': 2,\n",
       "  'created_date': datetime.datetime(2018, 5, 18, 18, 56, 20)},\n",
       " {'allergen_id': 216,\n",
       "  'allergen_type': 'WEED',\n",
       "  'allergen_name': 'ragweed',\n",
       "  'count': 0,\n",
       "  'created_date': datetime.datetime(2018, 5, 18, 18, 56, 20)},\n",
       " {'allergen_id': 217,\n",
       "  'allergen_type': 'WEED',\n",
       "  'allergen_name': 'plantain',\n",
       "  'count': 6,\n",
       "  'created_date': datetime.datetime(2018, 5, 18, 18, 56, 20)},\n",
       " {'allergen_id': 218,\n",
       "  'allergen_type': 'WEED',\n",
       "  'allergen_name': 'sage',\n",
       "  'count': 6,\n",
       "  'created_date': datetime.datetime(2018, 5, 18, 18, 56, 20)},\n",
       " {'allergen_id': 219,\n",
       "  'allergen_type': 'WEED',\n",
       "  'allergen_name': 'sheep',\n",
       "  'count': 0,\n",
       "  'created_date': datetime.datetime(2018, 5, 18, 18, 56, 20)},\n",
       " {'allergen_id': 220,\n",
       "  'allergen_type': 'WEED',\n",
       "  'allergen_name': 'aster',\n",
       "  'count': 0,\n",
       "  'created_date': datetime.datetime(2018, 5, 18, 18, 56, 20)},\n",
       " {'allergen_id': 221,\n",
       "  'allergen_type': 'WEED',\n",
       "  'allergen_name': 'cattail',\n",
       "  'count': 0,\n",
       "  'created_date': datetime.datetime(2018, 5, 18, 18, 56, 20)},\n",
       " {'allergen_id': 222,\n",
       "  'allergen_type': 'WEED',\n",
       "  'allergen_name': 'amaranth',\n",
       "  'count': 0,\n",
       "  'created_date': datetime.datetime(2018, 5, 18, 18, 56, 20)},\n",
       " {'allergen_id': 223,\n",
       "  'allergen_type': 'WEED',\n",
       "  'allergen_name': 'nettle',\n",
       "  'count': 8,\n",
       "  'created_date': datetime.datetime(2018, 5, 18, 18, 56, 20)},\n",
       " {'allergen_id': 224,\n",
       "  'allergen_type': 'WEED',\n",
       "  'allergen_name': 'sedge',\n",
       "  'count': 2,\n",
       "  'created_date': datetime.datetime(2018, 5, 18, 18, 56, 20)},\n",
       " {'allergen_id': 225,\n",
       "  'allergen_type': 'WEED',\n",
       "  'allergen_name': 'other weed',\n",
       "  'count': 10,\n",
       "  'created_date': datetime.datetime(2018, 5, 18, 18, 56, 20)},\n",
       " {'allergen_id': 226,\n",
       "  'allergen_type': 'MOLD',\n",
       "  'allergen_name': 'algae',\n",
       "  'count': 54,\n",
       "  'created_date': datetime.datetime(2018, 5, 18, 18, 56, 20)},\n",
       " {'allergen_id': 227,\n",
       "  'allergen_type': 'MOLD',\n",
       "  'allergen_name': 'erysiphe',\n",
       "  'count': 0,\n",
       "  'created_date': datetime.datetime(2018, 5, 18, 18, 56, 20)},\n",
       " {'allergen_id': 228,\n",
       "  'allergen_type': 'MOLD',\n",
       "  'allergen_name': 'alternaria',\n",
       "  'count': 157,\n",
       "  'created_date': datetime.datetime(2018, 5, 18, 18, 56, 20)},\n",
       " {'allergen_id': 229,\n",
       "  'allergen_type': 'MOLD',\n",
       "  'allergen_name': 'aspergillus',\n",
       "  'count': 0,\n",
       "  'created_date': datetime.datetime(2018, 5, 18, 18, 56, 20)},\n",
       " {'allergen_id': 230,\n",
       "  'allergen_type': 'MOLD',\n",
       "  'allergen_name': 'ascopores',\n",
       "  'count': 2357,\n",
       "  'created_date': datetime.datetime(2018, 5, 18, 18, 56, 20)},\n",
       " {'allergen_id': 231,\n",
       "  'allergen_type': 'MOLD',\n",
       "  'allergen_name': 'periconia',\n",
       "  'count': 16,\n",
       "  'created_date': datetime.datetime(2018, 5, 18, 18, 56, 20)},\n",
       " {'allergen_id': 232,\n",
       "  'allergen_type': 'MOLD',\n",
       "  'allergen_name': 'basidiospores',\n",
       "  'count': 194,\n",
       "  'created_date': datetime.datetime(2018, 5, 18, 18, 56, 20)},\n",
       " {'allergen_id': 233,\n",
       "  'allergen_type': 'MOLD',\n",
       "  'allergen_name': 'pithomyces',\n",
       "  'count': 0,\n",
       "  'created_date': datetime.datetime(2018, 5, 18, 18, 56, 20)},\n",
       " {'allergen_id': 234,\n",
       "  'allergen_type': 'MOLD',\n",
       "  'allergen_name': 'cercospora',\n",
       "  'count': 52,\n",
       "  'created_date': datetime.datetime(2018, 5, 18, 18, 56, 20)},\n",
       " {'allergen_id': 235,\n",
       "  'allergen_type': 'MOLD',\n",
       "  'allergen_name': 'rusts',\n",
       "  'count': 16,\n",
       "  'created_date': datetime.datetime(2018, 5, 18, 18, 56, 20)},\n",
       " {'allergen_id': 236,\n",
       "  'allergen_type': 'MOLD',\n",
       "  'allergen_name': 'cladosporium',\n",
       "  'count': 5431,\n",
       "  'created_date': datetime.datetime(2018, 5, 18, 18, 56, 20)},\n",
       " {'allergen_id': 237,\n",
       "  'allergen_type': 'MOLD',\n",
       "  'allergen_name': 'myxomycetes',\n",
       "  'count': 226,\n",
       "  'created_date': datetime.datetime(2018, 5, 18, 18, 56, 20)},\n",
       " {'allergen_id': 238,\n",
       "  'allergen_type': 'MOLD',\n",
       "  'allergen_name': 'curvularia',\n",
       "  'count': 18,\n",
       "  'created_date': datetime.datetime(2018, 5, 18, 18, 56, 20)},\n",
       " {'allergen_id': 239,\n",
       "  'allergen_type': 'MOLD',\n",
       "  'allergen_name': 'spegazzinia',\n",
       "  'count': 6,\n",
       "  'created_date': datetime.datetime(2018, 5, 18, 18, 56, 20)},\n",
       " {'allergen_id': 240,\n",
       "  'allergen_type': 'MOLD',\n",
       "  'allergen_name': 'helminthosporium',\n",
       "  'count': 22,\n",
       "  'created_date': datetime.datetime(2018, 5, 18, 18, 56, 20)},\n",
       " {'allergen_id': 241,\n",
       "  'allergen_type': 'MOLD',\n",
       "  'allergen_name': 'stemphilium',\n",
       "  'count': 10,\n",
       "  'created_date': datetime.datetime(2018, 5, 18, 18, 56, 20)},\n",
       " {'allergen_id': 242,\n",
       "  'allergen_type': 'MOLD',\n",
       "  'allergen_name': 'epicoccum',\n",
       "  'count': 99,\n",
       "  'created_date': datetime.datetime(2018, 5, 18, 18, 56, 20)},\n",
       " {'allergen_id': 243,\n",
       "  'allergen_type': 'MOLD',\n",
       "  'allergen_name': 'tetraploa',\n",
       "  'count': 4,\n",
       "  'created_date': datetime.datetime(2018, 5, 18, 18, 56, 20)},\n",
       " {'allergen_id': 244,\n",
       "  'allergen_type': 'MOLD',\n",
       "  'allergen_name': 'nigrospora',\n",
       "  'count': 14,\n",
       "  'created_date': datetime.datetime(2018, 5, 18, 18, 56, 20)},\n",
       " {'allergen_id': 245,\n",
       "  'allergen_type': 'MOLD',\n",
       "  'allergen_name': 'torula',\n",
       "  'count': 24,\n",
       "  'created_date': datetime.datetime(2018, 5, 18, 18, 56, 20)}]"
      ]
     },
     "execution_count": 157,
     "metadata": {},
     "output_type": "execute_result"
    }
   ],
   "source": [
    "for num_days in range(10):\n",
    "  #print(\"\"\"select * from allergens WHERE created_date BETWEEN DATE(NOW() - INTERVAL %s DAY) AND DATE(NOW())\"\"\" % num_days)\n",
    "  cursor.execute(\"\"\"select * from allergens WHERE created_date BETWEEN DATE(NOW() - INTERVAL %s DAY) AND DATE(NOW())\"\"\" % num_days)\n",
    "  results=cursor.fetchall()\n",
    "  if len(results)>0:\n",
    "        break;\n",
    "\n",
    "results"
   ]
  },
  {
   "cell_type": "code",
   "execution_count": 158,
   "metadata": {},
   "outputs": [],
   "source": [
    "tree_keys=['maple', 'mulberry', 'alder', 'pine', 'birch', 'sycamore', 'hickory', 'cottonwood', 'hackberry', 'oak', 'hazelnut', 'willow', 'cedar', 'linden', 'ash', 'elm', 'walnut', 'sweetgum', 'other tree']\n",
    "weed_keys=['ragweed', 'plantain', 'sage', 'sheep', 'aster', 'cattail', 'amaranth', 'nettle', 'sedge', 'other']\n",
    "mold_keys=['algae', 'erysiphe', 'alternaria', 'aspergillus', 'ascopores', 'periconia', 'basidiospores', 'pithomyces', 'cercospora', 'rusts', 'cladosporium', 'myxomycetes', 'curvularia', 'spegazzinia', 'helminthosporium', 'stemphilium', 'epicoccum', 'tetraploa', 'nigrospora', 'torula']"
   ]
  },
  {
   "cell_type": "code",
   "execution_count": 161,
   "metadata": {},
   "outputs": [],
   "source": [
    "res_all=[]"
   ]
  },
  {
   "cell_type": "code",
   "execution_count": 162,
   "metadata": {},
   "outputs": [
    {
     "name": "stdout",
     "output_type": "stream",
     "text": [
      "alert for birch   [{'id': 9, 'threshold': 'low', 'allergen_name': 'birch', 'user_id': 8}]\n",
      "alert for hickory   [{'id': 10, 'threshold': 'low', 'allergen_name': 'hickory', 'user_id': 8}]\n",
      "alert for oak   [{'id': 8, 'threshold': 'low', 'allergen_name': 'oak', 'user_id': 8}]\n"
     ]
    }
   ],
   "source": [
    "for key in tree_keys:\n",
    "  treshold_reached=0\n",
    "  for i in range(len(results)):\n",
    "      if results[i]['allergen_name']==key:  \n",
    "        treshold_num=results[i]['count']\n",
    "        if results[i]['count']>0:\n",
    "          treshold_reached=1\n",
    "        if results[i]['count']>14:\n",
    "          treshold_reached=2\n",
    "        if results[i]['count']>89:\n",
    "          treshold_reached=3\n",
    "        if results[i]['count']>1499:\n",
    "          treshold_reached=4\n",
    "  #print(key, treshold_reached, treshold_num)\n",
    "  treshold_reached=1\n",
    "  if treshold_reached==1:\n",
    "    cursor.execute(\"\"\"select * from subscriptions WHERE threshold IN ('low') AND allergen_name = '%s'\"\"\" % key)\n",
    "  if treshold_reached==2:\n",
    "    cursor.execute(\"\"\"select * from subscriptions WHERE threshold IN ('low','medium') AND allergen_name = '%s'\"\"\" % key)\n",
    "  if treshold_reached==3:\n",
    "    cursor.execute(\"\"\"select * from subscriptions WHERE threshold IN ('low','medium','heavy') AND allergen_name = '%s'\"\"\" % key)\n",
    "  if treshold_reached==4:\n",
    "    cursor.execute(\"\"\"select * from subscriptions WHERE threshold IN ('low','medium','heavy','extremely heavy') AND allergen_name = '%s'\"\"\" % key)\n",
    "  res=cursor.fetchall()\n",
    "  if len(res)>0:\n",
    "    #print(\"alert for\", key, \" \", res)\n",
    "    res_all=res_all+res\n"
   ]
  },
  {
   "cell_type": "code",
   "execution_count": 163,
   "metadata": {},
   "outputs": [],
   "source": [
    "for key in weed_keys:\n",
    "  treshold_reached=0\n",
    "  for i in range(len(results)):\n",
    "      if results[i]['allergen_name']==key:  \n",
    "        treshold_num=results[i]['count']\n",
    "        if results[i]['count']>0:\n",
    "          treshold_reached=1\n",
    "        if results[i]['count']>4:\n",
    "          treshold_reached=2\n",
    "        if results[i]['count']>19:\n",
    "          treshold_reached=3\n",
    "        if results[i]['count']>200:\n",
    "          treshold_reached=4\n",
    "  #print(key, treshold_reached, treshold_num)\n",
    "  treshold_reached=1\n",
    "  if treshold_reached==1:\n",
    "    cursor.execute(\"\"\"select * from subscriptions WHERE threshold IN ('low') AND allergen_name = '%s'\"\"\" % key)\n",
    "  if treshold_reached==2:\n",
    "    cursor.execute(\"\"\"select * from subscriptions WHERE threshold IN ('low','medium') AND allergen_name = '%s'\"\"\" % key)\n",
    "  if treshold_reached==3:\n",
    "    cursor.execute(\"\"\"select * from subscriptions WHERE threshold IN ('low','medium','heavy') AND allergen_name = '%s'\"\"\" % key)\n",
    "  if treshold_reached==4:\n",
    "    cursor.execute(\"\"\"select * from subscriptions WHERE threshold IN ('low','medium','heavy','extremely heavy') AND allergen_name = '%s'\"\"\" % key)\n",
    "  res=cursor.fetchall()\n",
    "  if len(res)>0:\n",
    "    print(\"alert for\", key, \" \", res)\n",
    "    res_all=res_all+res"
   ]
  },
  {
   "cell_type": "code",
   "execution_count": 164,
   "metadata": {},
   "outputs": [],
   "source": [
    "for key in mold_keys:\n",
    "  treshold_reached=0\n",
    "  for i in range(len(results)):\n",
    "      if results[i]['allergen_name']==key:  \n",
    "        treshold_num=results[i]['count']\n",
    "        if results[i]['count']>0:\n",
    "          treshold_reached=1\n",
    "        if results[i]['count']>6499:\n",
    "          treshold_reached=2\n",
    "        if results[i]['count']>12999:\n",
    "          treshold_reached=3\n",
    "        if results[i]['count']>49999:\n",
    "          treshold_reached=4\n",
    "  #print(key, treshold_reached, treshold_num)\n",
    "  treshold_reached=1\n",
    "  if treshold_reached==1:\n",
    "    cursor.execute(\"\"\"select * from subscriptions WHERE threshold IN ('low') AND allergen_name = '%s'\"\"\" % key)\n",
    "  if treshold_reached==2:\n",
    "    cursor.execute(\"\"\"select * from subscriptions WHERE threshold IN ('low','medium') AND allergen_name = '%s'\"\"\" % key)\n",
    "  if treshold_reached==3:\n",
    "    cursor.execute(\"\"\"select * from subscriptions WHERE threshold IN ('low','medium','heavy') AND allergen_name = '%s'\"\"\" % key)\n",
    "  if treshold_reached==4:\n",
    "    cursor.execute(\"\"\"select * from subscriptions WHERE threshold IN ('low','medium','heavy','extreme') AND allergen_name = '%s'\"\"\" % key)\n",
    "  res=cursor.fetchall()\n",
    "  if len(res)>0:\n",
    "    print(\"alert for\", key, \" \", res)\n",
    "    res_all=res_all+res"
   ]
  },
  {
   "cell_type": "code",
   "execution_count": 165,
   "metadata": {},
   "outputs": [
    {
     "data": {
      "text/plain": [
       "[{'id': 9, 'threshold': 'low', 'allergen_name': 'birch', 'user_id': 8},\n",
       " {'id': 10, 'threshold': 'low', 'allergen_name': 'hickory', 'user_id': 8},\n",
       " {'id': 8, 'threshold': 'low', 'allergen_name': 'oak', 'user_id': 8}]"
      ]
     },
     "execution_count": 165,
     "metadata": {},
     "output_type": "execute_result"
    }
   ],
   "source": [
    "#res_all"
   ]
  },
  {
   "cell_type": "code",
   "execution_count": 166,
   "metadata": {},
   "outputs": [],
   "source": [
    "unique_user=set()\n",
    "for res in res_all:\n",
    "    #print(res['user_id'])\n",
    "    if res['user_id'] not in unique_user:\n",
    "        unique_user.add(res['user_id'])\n",
    "\n"
   ]
  },
  {
   "cell_type": "code",
   "execution_count": 167,
   "metadata": {},
   "outputs": [
    {
     "name": "stdout",
     "output_type": "stream",
     "text": [
      "alert user  8  for  ['birch', 'hickory', 'oak']\n"
     ]
    }
   ],
   "source": [
    "for user in unique_user:\n",
    "    alerts_user=[]\n",
    "    for res in res_all:\n",
    "       #print(res['user_id'])\n",
    "       if res['user_id']==user:\n",
    "            alerts_user.append(res['allergen_name'])\n",
    "    print(\"alert user \",user,\" for \", alerts_user)\n",
    "            "
   ]
  },
  {
   "cell_type": "code",
   "execution_count": null,
   "metadata": {},
   "outputs": [],
   "source": []
  },
  {
   "cell_type": "code",
   "execution_count": 168,
   "metadata": {},
   "outputs": [],
   "source": [
    "db.close()"
   ]
  },
  {
   "cell_type": "code",
   "execution_count": null,
   "metadata": {},
   "outputs": [],
   "source": []
  },
  {
   "cell_type": "code",
   "execution_count": null,
   "metadata": {},
   "outputs": [],
   "source": []
  },
  {
   "cell_type": "code",
   "execution_count": null,
   "metadata": {},
   "outputs": [],
   "source": []
  },
  {
   "cell_type": "code",
   "execution_count": null,
   "metadata": {},
   "outputs": [],
   "source": []
  }
 ],
 "metadata": {
  "kernelspec": {
   "display_name": "Python 3",
   "language": "python",
   "name": "python3"
  },
  "language_info": {
   "codemirror_mode": {
    "name": "ipython",
    "version": 3
   },
   "file_extension": ".py",
   "mimetype": "text/x-python",
   "name": "python",
   "nbconvert_exporter": "python",
   "pygments_lexer": "ipython3",
   "version": "3.6.5"
  }
 },
 "nbformat": 4,
 "nbformat_minor": 2
}
