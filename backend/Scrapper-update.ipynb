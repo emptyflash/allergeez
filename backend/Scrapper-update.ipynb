{
 "cells": [
  {
   "cell_type": "code",
   "execution_count": 8,
   "metadata": {},
   "outputs": [
    {
     "name": "stdout",
     "output_type": "stream",
     "text": [
      "Requirement already satisfied: beautifulsoup4 in /usr/local/lib/python3.6/site-packages (4.6.0)\n",
      "Requirement already satisfied: requests in /usr/local/lib/python3.6/site-packages (2.11.1)\n",
      "Requirement already satisfied: lxml in /usr/local/lib/python3.6/site-packages (3.7.2)\n"
     ]
    }
   ],
   "source": [
    "!pip3 install beautifulsoup4\n",
    "!pip3 install requests\n",
    "!pip3 install lxml"
   ]
  },
  {
   "cell_type": "code",
   "execution_count": 61,
   "metadata": {},
   "outputs": [],
   "source": [
    "from bs4 import BeautifulSoup\n",
    "import requests\n",
    "from datetime import datetime\n",
    "import pymysql"
   ]
  },
  {
   "cell_type": "code",
   "execution_count": 62,
   "metadata": {},
   "outputs": [],
   "source": [
    "req  = requests.get(\"http://www.houstontx.gov/health/Pollen-Mold/index.html\")\n",
    "soup = BeautifulSoup(req.text, \"lxml\")"
   ]
  },
  {
   "cell_type": "code",
   "execution_count": null,
   "metadata": {},
   "outputs": [],
   "source": []
  },
  {
   "cell_type": "code",
   "execution_count": null,
   "metadata": {},
   "outputs": [],
   "source": [
    "\n",
    "        "
   ]
  },
  {
   "cell_type": "code",
   "execution_count": 63,
   "metadata": {},
   "outputs": [
    {
     "data": {
      "text/plain": [
       "{'maple': 0,\n",
       " 'mulberry': 0,\n",
       " 'alder': 0,\n",
       " 'pine': 2,\n",
       " 'birch': 0,\n",
       " 'sycamore': 0,\n",
       " 'hickory,': 6,\n",
       " 'cottonwood': 0,\n",
       " 'hackberry': 0,\n",
       " 'oak': 0,\n",
       " 'hazelnut': 0,\n",
       " 'willow': 0,\n",
       " 'cedar': 0,\n",
       " 'linden': 0,\n",
       " 'ash': 0,\n",
       " 'elm': 0,\n",
       " 'walnut': 0,\n",
       " 'sweet': 0,\n",
       " 'other tree': 2}"
      ]
     },
     "execution_count": 63,
     "metadata": {},
     "output_type": "execute_result"
    }
   ],
   "source": [
    "tree_pollen"
   ]
  },
  {
   "cell_type": "code",
   "execution_count": 64,
   "metadata": {},
   "outputs": [],
   "source": [
    "db = pymysql.connect(host='localhost',\n",
    "                             user='root',\n",
    "                             password='',\n",
    "                             db='db',\n",
    "                             charset='utf8mb4',\n",
    "                             cursorclass=pymysql.cursors.DictCursor)\n",
    "cursor = db.cursor()\n"
   ]
  },
  {
   "cell_type": "code",
   "execution_count": 71,
   "metadata": {},
   "outputs": [
    {
     "name": "stdout",
     "output_type": "stream",
     "text": [
      "1\n"
     ]
    }
   ],
   "source": [
    "for num_days in range(10):\n",
    "  #print(\"\"\"select * from allergens WHERE created_date BETWEEN DATE(NOW() - INTERVAL %s DAY) AND DATE(NOW())\"\"\" % num_days)\n",
    "  cursor.execute(\"\"\"select * from allergens WHERE created_date BETWEEN DATE(NOW() - INTERVAL %s DAY) AND DATE(NOW())\"\"\" % num_days)\n",
    "  results=cursor.fetchall()\n",
    "  if len(results)>0:\n",
    "        break;\n",
    "print(num_days)"
   ]
  },
  {
   "cell_type": "code",
   "execution_count": 72,
   "metadata": {},
   "outputs": [],
   "source": [
    "if len(results)==0:\n",
    "    print(\"ERROR no data found\")"
   ]
  },
  {
   "cell_type": "code",
   "execution_count": 74,
   "metadata": {},
   "outputs": [],
   "source": [
    "identical=True"
   ]
  },
  {
   "cell_type": "code",
   "execution_count": 43,
   "metadata": {},
   "outputs": [],
   "source": [
    "\n",
    "tree_pollen={}\n",
    "table2=soup.find_all('table')[2]\n",
    "for i in range(20):\n",
    "    a=table2.findAll(\"td\", {'width':'35%'})[i].findAll(\"strong\")[0].contents[0].strip()\n",
    "    a_name=a.split('(')[-1].replace(')','').split(' ')[0].lower()\n",
    "    if a_name=='other':\n",
    "        a_name=a_name+' tree'\n",
    "    if len(a)>0:\n",
    "        b=table2.findAll(\"td\", {'align':'left'})[i].findAll(\"strong\")[0].findAll(text=True)\n",
    "        #print(a_name,int(b[0]))\n",
    "        tree_pollen[a_name]=int(b[0])\n",
    "for key in list(tree_pollen.keys()):\n",
    "    #print(key)\n",
    "    for i in range(len(results)):\n",
    "      if results[i]['allergen_name']==key:  \n",
    "        if not results[i]['count'] == tree_pollen[key]:\n",
    "          print(key, results[i]['count'], tree_pollen[key])\n",
    "          identical=False\n",
    "          break;\n",
    "       "
   ]
  },
  {
   "cell_type": "code",
   "execution_count": 44,
   "metadata": {},
   "outputs": [],
   "source": [
    "weed_pollen={}\n",
    "table3=soup.find_all('table')[3]\n",
    "#table3\n",
    "for i in range(10):\n",
    "    a=table3.findAll(\"td\", {'width':'35%'})[i].findAll(\"strong\")[0].contents[0].strip()\n",
    "    a_name=a.split('(')[-1].replace(')','').split(' ')[0]\n",
    "    if len(a)>0:\n",
    "        b=table3.findAll(\"td\", {'align':'left'})[i].findAll(\"strong\")[0].findAll(text=True)\n",
    "        #print(a,int(b[0]))\n",
    "        weed_pollen[a_name]=int(b[0])\n",
    "for key in list(weed_pollen.keys()):\n",
    "    #print(key)\n",
    "    for i in range(len(results)):\n",
    "      if results[i]['allergen_name']==key:  \n",
    "        if not results[i]['count'] == weed_pollen[key]:\n",
    "          print(key, results[i]['count'], weed_pollen[key])\n",
    "          identical=Flase\n",
    "          break;"
   ]
  },
  {
   "cell_type": "code",
   "execution_count": 46,
   "metadata": {},
   "outputs": [],
   "source": [
    "mold_pollen={}\n",
    "table4=soup.find_all('table')[4]\n",
    "for i in range(20):\n",
    "    a=table4.findAll(\"td\", {'width':'35%'})[i].findAll(\"strong\")[0].contents[0].strip()\n",
    "    if len(a)>0:\n",
    "        a_name=a.split('/')[-1]\n",
    "        try:\n",
    "          b=table4.findAll(\"td\", {'align':'left'})[i].findAll(\"strong\")[0].findAll(text=True)\n",
    "        except:\n",
    "          b=table4.findAll(\"td\", {'align':'left'})[i].findAll(text=True)\n",
    "        b2=[x for x in b if getattr(x, 'name', None) != 'br'][-1]\n",
    "        mold_pollen[a_name]=int(b2.replace(',' , ''))\n",
    "        #print(i, a_name,int(b2.replace(',' , '')))\n",
    "        \n",
    "for key in list(mold_pollen.keys()):\n",
    "    #print(key)\n",
    "    for i in range(len(results)):\n",
    "      if results[i]['allergen_name']==key:  \n",
    "        if not results[i]['count'] == mold_pollen[key]:\n",
    "          print(key, results[i]['count'], mold_pollen[key])\n",
    "          identical=Flase\n",
    "          break;"
   ]
  },
  {
   "cell_type": "code",
   "execution_count": 47,
   "metadata": {},
   "outputs": [
    {
     "data": {
      "text/plain": [
       "True"
      ]
     },
     "execution_count": 47,
     "metadata": {},
     "output_type": "execute_result"
    }
   ],
   "source": [
    "identical"
   ]
  },
  {
   "cell_type": "code",
   "execution_count": 49,
   "metadata": {},
   "outputs": [
    {
     "name": "stdout",
     "output_type": "stream",
     "text": [
      "DO NOT update\n"
     ]
    }
   ],
   "source": [
    "if identical:\n",
    "    print(\"DO NOT update\")"
   ]
  },
  {
   "cell_type": "code",
   "execution_count": 52,
   "metadata": {},
   "outputs": [],
   "source": [
    "if not identical:\n",
    "    print(\"DO update\")\n",
    "    time=datetime.now()\n",
    "    str(time)\n",
    "    "
   ]
  },
  {
   "cell_type": "code",
   "execution_count": 53,
   "metadata": {},
   "outputs": [],
   "source": [
    "if not identical:\n",
    "    str_db=\"\"\"INSERT INTO `allergens` \n",
    "    (`allergen_type`, `allergen_name`, `count`, `created_date`) VALUES \"\"\"\n",
    "    for i,(k,v) in enumerate(tree_pollen.items()):\n",
    "        str_2=\"\"\"('%s', '%s', %s, '%s'),\"\"\" % ('TREE', k,v, time)\n",
    "        str_db=str_db+str_2\n",
    "\n",
    "    for i,(k,v) in enumerate(weed_pollen.items()):\n",
    "        str_2=\"\"\"('%s', '%s', %s, '%s'),\"\"\" % ('WEED', k,v, time)\n",
    "        str_db=str_db+str_2                                         \n",
    "\n",
    "    for i,(k,v) in enumerate(mold_pollen.items()):\n",
    "        str_2=\"\"\"('%s', '%s', %s, '%s')\"\"\" % ('MOLD', k,v, time)\n",
    "        str_db=str_db+str_2\n",
    "        if i == (len(mold_pollen)-1):\n",
    "            str_db=str_db+';'\n",
    "        else:\n",
    "            str_db =str_db+','\n",
    "    str_db"
   ]
  },
  {
   "cell_type": "code",
   "execution_count": 54,
   "metadata": {},
   "outputs": [],
   "source": [
    "if not identical:\n",
    "    cursor.execute(str_db)\n",
    "    db.commit()"
   ]
  },
  {
   "cell_type": "code",
   "execution_count": 55,
   "metadata": {},
   "outputs": [
    {
     "name": "stdout",
     "output_type": "stream",
     "text": [
      "[{'allergen_id': 1, 'allergen_type': 'TREE', 'allergen_name': 'maple', 'count': 0, 'created_date': datetime.datetime(2018, 5, 14, 18, 56, 20)}, {'allergen_id': 2, 'allergen_type': 'TREE', 'allergen_name': 'mulberry', 'count': 0, 'created_date': datetime.datetime(2018, 5, 14, 18, 56, 20)}, {'allergen_id': 3, 'allergen_type': 'TREE', 'allergen_name': 'alder', 'count': 0, 'created_date': datetime.datetime(2018, 5, 14, 18, 56, 20)}, {'allergen_id': 4, 'allergen_type': 'TREE', 'allergen_name': 'pine', 'count': 0, 'created_date': datetime.datetime(2018, 5, 14, 18, 56, 20)}, {'allergen_id': 5, 'allergen_type': 'TREE', 'allergen_name': 'birch', 'count': 0, 'created_date': datetime.datetime(2018, 5, 14, 18, 56, 20)}, {'allergen_id': 6, 'allergen_type': 'TREE', 'allergen_name': 'sycamore', 'count': 0, 'created_date': datetime.datetime(2018, 5, 14, 18, 56, 20)}, {'allergen_id': 7, 'allergen_type': 'TREE', 'allergen_name': 'hickory,', 'count': 4, 'created_date': datetime.datetime(2018, 5, 14, 18, 56, 20)}, {'allergen_id': 8, 'allergen_type': 'TREE', 'allergen_name': 'cottonwood', 'count': 2, 'created_date': datetime.datetime(2018, 5, 14, 18, 56, 20)}, {'allergen_id': 9, 'allergen_type': 'TREE', 'allergen_name': 'hackberry', 'count': 0, 'created_date': datetime.datetime(2018, 5, 14, 18, 56, 20)}, {'allergen_id': 10, 'allergen_type': 'TREE', 'allergen_name': 'oak', 'count': 4, 'created_date': datetime.datetime(2018, 5, 14, 18, 56, 20)}, {'allergen_id': 11, 'allergen_type': 'TREE', 'allergen_name': 'hazelnut', 'count': 0, 'created_date': datetime.datetime(2018, 5, 14, 18, 56, 20)}, {'allergen_id': 12, 'allergen_type': 'TREE', 'allergen_name': 'willow', 'count': 0, 'created_date': datetime.datetime(2018, 5, 14, 18, 56, 20)}, {'allergen_id': 13, 'allergen_type': 'TREE', 'allergen_name': 'cedar', 'count': 0, 'created_date': datetime.datetime(2018, 5, 14, 18, 56, 20)}, {'allergen_id': 14, 'allergen_type': 'TREE', 'allergen_name': 'linden', 'count': 0, 'created_date': datetime.datetime(2018, 5, 14, 18, 56, 20)}, {'allergen_id': 15, 'allergen_type': 'TREE', 'allergen_name': 'ash', 'count': 0, 'created_date': datetime.datetime(2018, 5, 14, 18, 56, 20)}, {'allergen_id': 16, 'allergen_type': 'TREE', 'allergen_name': 'elm', 'count': 0, 'created_date': datetime.datetime(2018, 5, 14, 18, 56, 20)}, {'allergen_id': 17, 'allergen_type': 'TREE', 'allergen_name': 'walnut', 'count': 0, 'created_date': datetime.datetime(2018, 5, 14, 18, 56, 20)}, {'allergen_id': 18, 'allergen_type': 'TREE', 'allergen_name': 'sweet', 'count': 0, 'created_date': datetime.datetime(2018, 5, 14, 18, 56, 20)}, {'allergen_id': 19, 'allergen_type': 'TREE', 'allergen_name': 'other tree', 'count': 2, 'created_date': datetime.datetime(2018, 5, 14, 18, 56, 20)}, {'allergen_id': 20, 'allergen_type': 'WEED', 'allergen_name': 'ragweed', 'count': 0, 'created_date': datetime.datetime(2018, 5, 14, 18, 56, 20)}, {'allergen_id': 21, 'allergen_type': 'WEED', 'allergen_name': 'plantain', 'count': 0, 'created_date': datetime.datetime(2018, 5, 14, 18, 56, 20)}, {'allergen_id': 22, 'allergen_type': 'WEED', 'allergen_name': 'sage', 'count': 0, 'created_date': datetime.datetime(2018, 5, 14, 18, 56, 20)}, {'allergen_id': 23, 'allergen_type': 'WEED', 'allergen_name': 'sheep', 'count': 0, 'created_date': datetime.datetime(2018, 5, 14, 18, 56, 20)}, {'allergen_id': 24, 'allergen_type': 'WEED', 'allergen_name': 'aster', 'count': 0, 'created_date': datetime.datetime(2018, 5, 14, 18, 56, 20)}, {'allergen_id': 25, 'allergen_type': 'WEED', 'allergen_name': 'cattail', 'count': 0, 'created_date': datetime.datetime(2018, 5, 14, 18, 56, 20)}, {'allergen_id': 26, 'allergen_type': 'WEED', 'allergen_name': 'amaranth', 'count': 0, 'created_date': datetime.datetime(2018, 5, 14, 18, 56, 20)}, {'allergen_id': 27, 'allergen_type': 'WEED', 'allergen_name': 'nettle', 'count': 0, 'created_date': datetime.datetime(2018, 5, 14, 18, 56, 20)}, {'allergen_id': 28, 'allergen_type': 'WEED', 'allergen_name': 'sedge', 'count': 4, 'created_date': datetime.datetime(2018, 5, 14, 18, 56, 20)}, {'allergen_id': 29, 'allergen_type': 'WEED', 'allergen_name': 'other weed', 'count': 10, 'created_date': datetime.datetime(2018, 5, 14, 18, 56, 20)}, {'allergen_id': 30, 'allergen_type': 'MOLD', 'allergen_name': 'algae', 'count': 0, 'created_date': datetime.datetime(2018, 5, 14, 18, 56, 20)}, {'allergen_id': 31, 'allergen_type': 'MOLD', 'allergen_name': 'erysiphe', 'count': 0, 'created_date': datetime.datetime(2018, 5, 14, 18, 56, 20)}, {'allergen_id': 32, 'allergen_type': 'MOLD', 'allergen_name': 'alternaria', 'count': 56, 'created_date': datetime.datetime(2018, 5, 14, 18, 56, 20)}, {'allergen_id': 33, 'allergen_type': 'MOLD', 'allergen_name': 'aspergillus', 'count': 6, 'created_date': datetime.datetime(2018, 5, 14, 18, 56, 20)}, {'allergen_id': 34, 'allergen_type': 'MOLD', 'allergen_name': 'ascopores', 'count': 1707, 'created_date': datetime.datetime(2018, 5, 14, 18, 56, 20)}, {'allergen_id': 35, 'allergen_type': 'MOLD', 'allergen_name': 'periconia', 'count': 0, 'created_date': datetime.datetime(2018, 5, 14, 18, 56, 20)}, {'allergen_id': 36, 'allergen_type': 'MOLD', 'allergen_name': 'basidiospores', 'count': 145, 'created_date': datetime.datetime(2018, 5, 14, 18, 56, 20)}, {'allergen_id': 37, 'allergen_type': 'MOLD', 'allergen_name': 'pithomyces', 'count': 0, 'created_date': datetime.datetime(2018, 5, 14, 18, 56, 20)}, {'allergen_id': 38, 'allergen_type': 'MOLD', 'allergen_name': 'cercospora', 'count': 26, 'created_date': datetime.datetime(2018, 5, 14, 18, 56, 20)}, {'allergen_id': 39, 'allergen_type': 'MOLD', 'allergen_name': 'rusts', 'count': 12, 'created_date': datetime.datetime(2018, 5, 14, 18, 56, 20)}, {'allergen_id': 40, 'allergen_type': 'MOLD', 'allergen_name': 'cladosporium', 'count': 2253, 'created_date': datetime.datetime(2018, 5, 14, 18, 56, 20)}, {'allergen_id': 41, 'allergen_type': 'MOLD', 'allergen_name': 'myxomycetes', 'count': 54, 'created_date': datetime.datetime(2018, 5, 14, 18, 56, 20)}, {'allergen_id': 42, 'allergen_type': 'MOLD', 'allergen_name': 'curvularia', 'count': 4, 'created_date': datetime.datetime(2018, 5, 14, 18, 56, 20)}, {'allergen_id': 43, 'allergen_type': 'MOLD', 'allergen_name': 'spegazzinia', 'count': 6, 'created_date': datetime.datetime(2018, 5, 14, 18, 56, 20)}, {'allergen_id': 44, 'allergen_type': 'MOLD', 'allergen_name': 'helminthosporium', 'count': 2, 'created_date': datetime.datetime(2018, 5, 14, 18, 56, 20)}, {'allergen_id': 45, 'allergen_type': 'MOLD', 'allergen_name': 'stemphilium', 'count': 0, 'created_date': datetime.datetime(2018, 5, 14, 18, 56, 20)}, {'allergen_id': 46, 'allergen_type': 'MOLD', 'allergen_name': 'epicoccum', 'count': 14, 'created_date': datetime.datetime(2018, 5, 14, 18, 56, 20)}, {'allergen_id': 47, 'allergen_type': 'MOLD', 'allergen_name': 'tetraploa', 'count': 0, 'created_date': datetime.datetime(2018, 5, 14, 18, 56, 20)}, {'allergen_id': 48, 'allergen_type': 'MOLD', 'allergen_name': 'nigrospora', 'count': 0, 'created_date': datetime.datetime(2018, 5, 14, 18, 56, 20)}, {'allergen_id': 49, 'allergen_type': 'MOLD', 'allergen_name': 'torula', 'count': 0, 'created_date': datetime.datetime(2018, 5, 14, 18, 56, 20)}, {'allergen_id': 50, 'allergen_type': 'TREE', 'allergen_name': 'maple', 'count': 0, 'created_date': datetime.datetime(2018, 5, 15, 18, 56, 20)}, {'allergen_id': 51, 'allergen_type': 'TREE', 'allergen_name': 'mulberry', 'count': 0, 'created_date': datetime.datetime(2018, 5, 15, 18, 56, 20)}, {'allergen_id': 52, 'allergen_type': 'TREE', 'allergen_name': 'alder', 'count': 0, 'created_date': datetime.datetime(2018, 5, 15, 18, 56, 20)}, {'allergen_id': 53, 'allergen_type': 'TREE', 'allergen_name': 'pine', 'count': 0, 'created_date': datetime.datetime(2018, 5, 15, 18, 56, 20)}, {'allergen_id': 54, 'allergen_type': 'TREE', 'allergen_name': 'birch', 'count': 0, 'created_date': datetime.datetime(2018, 5, 15, 18, 56, 20)}, {'allergen_id': 55, 'allergen_type': 'TREE', 'allergen_name': 'sycamore', 'count': 2, 'created_date': datetime.datetime(2018, 5, 15, 18, 56, 20)}, {'allergen_id': 56, 'allergen_type': 'TREE', 'allergen_name': 'hickory,', 'count': 2, 'created_date': datetime.datetime(2018, 5, 15, 18, 56, 20)}, {'allergen_id': 57, 'allergen_type': 'TREE', 'allergen_name': 'cottonwood', 'count': 0, 'created_date': datetime.datetime(2018, 5, 15, 18, 56, 20)}, {'allergen_id': 58, 'allergen_type': 'TREE', 'allergen_name': 'hackberry', 'count': 0, 'created_date': datetime.datetime(2018, 5, 15, 18, 56, 20)}, {'allergen_id': 59, 'allergen_type': 'TREE', 'allergen_name': 'oak', 'count': 2, 'created_date': datetime.datetime(2018, 5, 15, 18, 56, 20)}, {'allergen_id': 60, 'allergen_type': 'TREE', 'allergen_name': 'hazelnut', 'count': 0, 'created_date': datetime.datetime(2018, 5, 15, 18, 56, 20)}, {'allergen_id': 61, 'allergen_type': 'TREE', 'allergen_name': 'willow', 'count': 0, 'created_date': datetime.datetime(2018, 5, 15, 18, 56, 20)}, {'allergen_id': 62, 'allergen_type': 'TREE', 'allergen_name': 'cedar', 'count': 0, 'created_date': datetime.datetime(2018, 5, 15, 18, 56, 20)}, {'allergen_id': 63, 'allergen_type': 'TREE', 'allergen_name': 'linden', 'count': 0, 'created_date': datetime.datetime(2018, 5, 15, 18, 56, 20)}, {'allergen_id': 64, 'allergen_type': 'TREE', 'allergen_name': 'ash', 'count': 0, 'created_date': datetime.datetime(2018, 5, 15, 18, 56, 20)}, {'allergen_id': 65, 'allergen_type': 'TREE', 'allergen_name': 'elm', 'count': 0, 'created_date': datetime.datetime(2018, 5, 15, 18, 56, 20)}, {'allergen_id': 66, 'allergen_type': 'TREE', 'allergen_name': 'walnut', 'count': 0, 'created_date': datetime.datetime(2018, 5, 15, 18, 56, 20)}, {'allergen_id': 67, 'allergen_type': 'TREE', 'allergen_name': 'sweet', 'count': 0, 'created_date': datetime.datetime(2018, 5, 15, 18, 56, 20)}, {'allergen_id': 68, 'allergen_type': 'TREE', 'allergen_name': 'other tree', 'count': 4, 'created_date': datetime.datetime(2018, 5, 15, 18, 56, 20)}, {'allergen_id': 69, 'allergen_type': 'WEED', 'allergen_name': 'ragweed', 'count': 0, 'created_date': datetime.datetime(2018, 5, 15, 18, 56, 20)}, {'allergen_id': 70, 'allergen_type': 'WEED', 'allergen_name': 'plantain', 'count': 6, 'created_date': datetime.datetime(2018, 5, 15, 18, 56, 20)}, {'allergen_id': 71, 'allergen_type': 'WEED', 'allergen_name': 'sage', 'count': 12, 'created_date': datetime.datetime(2018, 5, 15, 18, 56, 20)}, {'allergen_id': 72, 'allergen_type': 'WEED', 'allergen_name': 'sheep', 'count': 0, 'created_date': datetime.datetime(2018, 5, 15, 18, 56, 20)}, {'allergen_id': 73, 'allergen_type': 'WEED', 'allergen_name': 'aster', 'count': 0, 'created_date': datetime.datetime(2018, 5, 15, 18, 56, 20)}, {'allergen_id': 74, 'allergen_type': 'WEED', 'allergen_name': 'cattail', 'count': 0, 'created_date': datetime.datetime(2018, 5, 15, 18, 56, 20)}, {'allergen_id': 75, 'allergen_type': 'WEED', 'allergen_name': 'amaranth', 'count': 2, 'created_date': datetime.datetime(2018, 5, 15, 18, 56, 20)}, {'allergen_id': 76, 'allergen_type': 'WEED', 'allergen_name': 'nettle', 'count': 0, 'created_date': datetime.datetime(2018, 5, 15, 18, 56, 20)}, {'allergen_id': 77, 'allergen_type': 'WEED', 'allergen_name': 'sedge', 'count': 2, 'created_date': datetime.datetime(2018, 5, 15, 18, 56, 20)}, {'allergen_id': 78, 'allergen_type': 'WEED', 'allergen_name': 'other weed', 'count': 8, 'created_date': datetime.datetime(2018, 5, 15, 18, 56, 20)}, {'allergen_id': 79, 'allergen_type': 'MOLD', 'allergen_name': 'algae', 'count': 0, 'created_date': datetime.datetime(2018, 5, 15, 18, 56, 20)}, {'allergen_id': 80, 'allergen_type': 'MOLD', 'allergen_name': 'erysiphe', 'count': 4, 'created_date': datetime.datetime(2018, 5, 15, 18, 56, 20)}, {'allergen_id': 81, 'allergen_type': 'MOLD', 'allergen_name': 'alternaria', 'count': 60, 'created_date': datetime.datetime(2018, 5, 15, 18, 56, 20)}, {'allergen_id': 82, 'allergen_type': 'MOLD', 'allergen_name': 'aspergillus', 'count': 26, 'created_date': datetime.datetime(2018, 5, 15, 18, 56, 20)}, {'allergen_id': 83, 'allergen_type': 'MOLD', 'allergen_name': 'ascopores', 'count': 1178, 'created_date': datetime.datetime(2018, 5, 15, 18, 56, 20)}, {'allergen_id': 84, 'allergen_type': 'MOLD', 'allergen_name': 'periconia', 'count': 6, 'created_date': datetime.datetime(2018, 5, 15, 18, 56, 20)}, {'allergen_id': 85, 'allergen_type': 'MOLD', 'allergen_name': 'basidiospores', 'count': 182, 'created_date': datetime.datetime(2018, 5, 15, 18, 56, 20)}, {'allergen_id': 86, 'allergen_type': 'MOLD', 'allergen_name': 'pithomyces', 'count': 12, 'created_date': datetime.datetime(2018, 5, 15, 18, 56, 20)}, {'allergen_id': 87, 'allergen_type': 'MOLD', 'allergen_name': 'cercospora', 'count': 30, 'created_date': datetime.datetime(2018, 5, 15, 18, 56, 20)}, {'allergen_id': 88, 'allergen_type': 'MOLD', 'allergen_name': 'rusts', 'count': 38, 'created_date': datetime.datetime(2018, 5, 15, 18, 56, 20)}, {'allergen_id': 89, 'allergen_type': 'MOLD', 'allergen_name': 'cladosporium', 'count': 4197, 'created_date': datetime.datetime(2018, 5, 15, 18, 56, 20)}, {'allergen_id': 90, 'allergen_type': 'MOLD', 'allergen_name': 'myxomycetes', 'count': 101, 'created_date': datetime.datetime(2018, 5, 15, 18, 56, 20)}, {'allergen_id': 91, 'allergen_type': 'MOLD', 'allergen_name': 'curvularia', 'count': 10, 'created_date': datetime.datetime(2018, 5, 15, 18, 56, 20)}, {'allergen_id': 92, 'allergen_type': 'MOLD', 'allergen_name': 'spegazzinia', 'count': 4, 'created_date': datetime.datetime(2018, 5, 15, 18, 56, 20)}, {'allergen_id': 93, 'allergen_type': 'MOLD', 'allergen_name': 'helminthosporium', 'count': 12, 'created_date': datetime.datetime(2018, 5, 15, 18, 56, 20)}, {'allergen_id': 94, 'allergen_type': 'MOLD', 'allergen_name': 'stemphilium', 'count': 0, 'created_date': datetime.datetime(2018, 5, 15, 18, 56, 20)}, {'allergen_id': 95, 'allergen_type': 'MOLD', 'allergen_name': 'epicoccum', 'count': 34, 'created_date': datetime.datetime(2018, 5, 15, 18, 56, 20)}, {'allergen_id': 96, 'allergen_type': 'MOLD', 'allergen_name': 'tetraploa', 'count': 0, 'created_date': datetime.datetime(2018, 5, 15, 18, 56, 20)}, {'allergen_id': 97, 'allergen_type': 'MOLD', 'allergen_name': 'nigrospora', 'count': 8, 'created_date': datetime.datetime(2018, 5, 15, 18, 56, 20)}, {'allergen_id': 98, 'allergen_type': 'MOLD', 'allergen_name': 'torula', 'count': 0, 'created_date': datetime.datetime(2018, 5, 15, 18, 56, 20)}, {'allergen_id': 99, 'allergen_type': 'TREE', 'allergen_name': 'maple', 'count': 0, 'created_date': datetime.datetime(2018, 5, 16, 18, 56, 20)}, {'allergen_id': 100, 'allergen_type': 'TREE', 'allergen_name': 'mulberry', 'count': 0, 'created_date': datetime.datetime(2018, 5, 16, 18, 56, 20)}, {'allergen_id': 101, 'allergen_type': 'TREE', 'allergen_name': 'alder', 'count': 0, 'created_date': datetime.datetime(2018, 5, 16, 18, 56, 20)}, {'allergen_id': 102, 'allergen_type': 'TREE', 'allergen_name': 'pine', 'count': 2, 'created_date': datetime.datetime(2018, 5, 16, 18, 56, 20)}, {'allergen_id': 103, 'allergen_type': 'TREE', 'allergen_name': 'birch', 'count': 0, 'created_date': datetime.datetime(2018, 5, 16, 18, 56, 20)}, {'allergen_id': 104, 'allergen_type': 'TREE', 'allergen_name': 'sycamore', 'count': 0, 'created_date': datetime.datetime(2018, 5, 16, 18, 56, 20)}, {'allergen_id': 105, 'allergen_type': 'TREE', 'allergen_name': 'hickory,', 'count': 0, 'created_date': datetime.datetime(2018, 5, 16, 18, 56, 20)}, {'allergen_id': 106, 'allergen_type': 'TREE', 'allergen_name': 'cottonwood', 'count': 4, 'created_date': datetime.datetime(2018, 5, 16, 18, 56, 20)}, {'allergen_id': 107, 'allergen_type': 'TREE', 'allergen_name': 'hackberry', 'count': 0, 'created_date': datetime.datetime(2018, 5, 16, 18, 56, 20)}, {'allergen_id': 108, 'allergen_type': 'TREE', 'allergen_name': 'oak', 'count': 0, 'created_date': datetime.datetime(2018, 5, 16, 18, 56, 20)}, {'allergen_id': 109, 'allergen_type': 'TREE', 'allergen_name': 'hazelnut', 'count': 0, 'created_date': datetime.datetime(2018, 5, 16, 18, 56, 20)}, {'allergen_id': 110, 'allergen_type': 'TREE', 'allergen_name': 'willow', 'count': 0, 'created_date': datetime.datetime(2018, 5, 16, 18, 56, 20)}, {'allergen_id': 111, 'allergen_type': 'TREE', 'allergen_name': 'cedar', 'count': 0, 'created_date': datetime.datetime(2018, 5, 16, 18, 56, 20)}, {'allergen_id': 112, 'allergen_type': 'TREE', 'allergen_name': 'linden', 'count': 0, 'created_date': datetime.datetime(2018, 5, 16, 18, 56, 20)}, {'allergen_id': 113, 'allergen_type': 'TREE', 'allergen_name': 'ash', 'count': 0, 'created_date': datetime.datetime(2018, 5, 16, 18, 56, 20)}, {'allergen_id': 114, 'allergen_type': 'TREE', 'allergen_name': 'elm', 'count': 0, 'created_date': datetime.datetime(2018, 5, 16, 18, 56, 20)}, {'allergen_id': 115, 'allergen_type': 'TREE', 'allergen_name': 'walnut', 'count': 0, 'created_date': datetime.datetime(2018, 5, 16, 18, 56, 20)}, {'allergen_id': 116, 'allergen_type': 'TREE', 'allergen_name': 'sweet', 'count': 0, 'created_date': datetime.datetime(2018, 5, 16, 18, 56, 20)}, {'allergen_id': 117, 'allergen_type': 'TREE', 'allergen_name': 'other tree', 'count': 6, 'created_date': datetime.datetime(2018, 5, 16, 18, 56, 20)}, {'allergen_id': 118, 'allergen_type': 'WEED', 'allergen_name': 'ragweed', 'count': 0, 'created_date': datetime.datetime(2018, 5, 16, 18, 56, 20)}, {'allergen_id': 119, 'allergen_type': 'WEED', 'allergen_name': 'plantain', 'count': 6, 'created_date': datetime.datetime(2018, 5, 16, 18, 56, 20)}, {'allergen_id': 120, 'allergen_type': 'WEED', 'allergen_name': 'sage', 'count': 10, 'created_date': datetime.datetime(2018, 5, 16, 18, 56, 20)}, {'allergen_id': 121, 'allergen_type': 'WEED', 'allergen_name': 'sheep', 'count': 0, 'created_date': datetime.datetime(2018, 5, 16, 18, 56, 20)}, {'allergen_id': 122, 'allergen_type': 'WEED', 'allergen_name': 'aster', 'count': 4, 'created_date': datetime.datetime(2018, 5, 16, 18, 56, 20)}, {'allergen_id': 123, 'allergen_type': 'WEED', 'allergen_name': 'cattail', 'count': 2, 'created_date': datetime.datetime(2018, 5, 16, 18, 56, 20)}, {'allergen_id': 124, 'allergen_type': 'WEED', 'allergen_name': 'amaranth', 'count': 0, 'created_date': datetime.datetime(2018, 5, 16, 18, 56, 20)}, {'allergen_id': 125, 'allergen_type': 'WEED', 'allergen_name': 'nettle', 'count': 8, 'created_date': datetime.datetime(2018, 5, 16, 18, 56, 20)}, {'allergen_id': 126, 'allergen_type': 'WEED', 'allergen_name': 'sedge', 'count': 4, 'created_date': datetime.datetime(2018, 5, 16, 18, 56, 20)}, {'allergen_id': 127, 'allergen_type': 'WEED', 'allergen_name': 'other weed', 'count': 14, 'created_date': datetime.datetime(2018, 5, 16, 18, 56, 20)}, {'allergen_id': 128, 'allergen_type': 'MOLD', 'allergen_name': 'algae', 'count': 18, 'created_date': datetime.datetime(2018, 5, 16, 18, 56, 20)}, {'allergen_id': 129, 'allergen_type': 'MOLD', 'allergen_name': 'erysiphe', 'count': 2, 'created_date': datetime.datetime(2018, 5, 16, 18, 56, 20)}, {'allergen_id': 130, 'allergen_type': 'MOLD', 'allergen_name': 'alternaria', 'count': 101, 'created_date': datetime.datetime(2018, 5, 16, 18, 56, 20)}, {'allergen_id': 131, 'allergen_type': 'MOLD', 'allergen_name': 'aspergillus', 'count': 129, 'created_date': datetime.datetime(2018, 5, 16, 18, 56, 20)}, {'allergen_id': 132, 'allergen_type': 'MOLD', 'allergen_name': 'ascopores', 'count': 2381, 'created_date': datetime.datetime(2018, 5, 16, 18, 56, 20)}, {'allergen_id': 133, 'allergen_type': 'MOLD', 'allergen_name': 'periconia', 'count': 16, 'created_date': datetime.datetime(2018, 5, 16, 18, 56, 20)}, {'allergen_id': 134, 'allergen_type': 'MOLD', 'allergen_name': 'basidiospores', 'count': 188, 'created_date': datetime.datetime(2018, 5, 16, 18, 56, 20)}, {'allergen_id': 135, 'allergen_type': 'MOLD', 'allergen_name': 'pithomyces', 'count': 6, 'created_date': datetime.datetime(2018, 5, 16, 18, 56, 20)}, {'allergen_id': 136, 'allergen_type': 'MOLD', 'allergen_name': 'cercospora', 'count': 40, 'created_date': datetime.datetime(2018, 5, 16, 18, 56, 20)}, {'allergen_id': 137, 'allergen_type': 'MOLD', 'allergen_name': 'rusts', 'count': 22, 'created_date': datetime.datetime(2018, 5, 16, 18, 56, 20)}, {'allergen_id': 138, 'allergen_type': 'MOLD', 'allergen_name': 'cladosporium', 'count': 4446, 'created_date': datetime.datetime(2018, 5, 16, 18, 56, 20)}, {'allergen_id': 139, 'allergen_type': 'MOLD', 'allergen_name': 'myxomycetes', 'count': 305, 'created_date': datetime.datetime(2018, 5, 16, 18, 56, 20)}, {'allergen_id': 140, 'allergen_type': 'MOLD', 'allergen_name': 'curvularia', 'count': 18, 'created_date': datetime.datetime(2018, 5, 16, 18, 56, 20)}, {'allergen_id': 141, 'allergen_type': 'MOLD', 'allergen_name': 'spegazzinia', 'count': 6, 'created_date': datetime.datetime(2018, 5, 16, 18, 56, 20)}, {'allergen_id': 142, 'allergen_type': 'MOLD', 'allergen_name': 'helminthosporium', 'count': 20, 'created_date': datetime.datetime(2018, 5, 16, 18, 56, 20)}, {'allergen_id': 143, 'allergen_type': 'MOLD', 'allergen_name': 'stemphilium', 'count': 0, 'created_date': datetime.datetime(2018, 5, 16, 18, 56, 20)}, {'allergen_id': 144, 'allergen_type': 'MOLD', 'allergen_name': 'epicoccum', 'count': 56, 'created_date': datetime.datetime(2018, 5, 16, 18, 56, 20)}, {'allergen_id': 145, 'allergen_type': 'MOLD', 'allergen_name': 'tetraploa', 'count': 6, 'created_date': datetime.datetime(2018, 5, 16, 18, 56, 20)}, {'allergen_id': 146, 'allergen_type': 'MOLD', 'allergen_name': 'nigrospora', 'count': 6, 'created_date': datetime.datetime(2018, 5, 16, 18, 56, 20)}, {'allergen_id': 147, 'allergen_type': 'MOLD', 'allergen_name': 'torula', 'count': 12, 'created_date': datetime.datetime(2018, 5, 16, 18, 56, 20)}, {'allergen_id': 148, 'allergen_type': 'TREE', 'allergen_name': 'maple', 'count': 0, 'created_date': datetime.datetime(2018, 5, 17, 18, 56, 20)}, {'allergen_id': 149, 'allergen_type': 'TREE', 'allergen_name': 'mulberry', 'count': 0, 'created_date': datetime.datetime(2018, 5, 17, 18, 56, 20)}, {'allergen_id': 150, 'allergen_type': 'TREE', 'allergen_name': 'alder', 'count': 0, 'created_date': datetime.datetime(2018, 5, 17, 18, 56, 20)}, {'allergen_id': 151, 'allergen_type': 'TREE', 'allergen_name': 'pine', 'count': 0, 'created_date': datetime.datetime(2018, 5, 17, 18, 56, 20)}, {'allergen_id': 152, 'allergen_type': 'TREE', 'allergen_name': 'birch', 'count': 0, 'created_date': datetime.datetime(2018, 5, 17, 18, 56, 20)}, {'allergen_id': 153, 'allergen_type': 'TREE', 'allergen_name': 'sycamore', 'count': 0, 'created_date': datetime.datetime(2018, 5, 17, 18, 56, 20)}, {'allergen_id': 154, 'allergen_type': 'TREE', 'allergen_name': 'hickory,', 'count': 18, 'created_date': datetime.datetime(2018, 5, 17, 18, 56, 20)}, {'allergen_id': 155, 'allergen_type': 'TREE', 'allergen_name': 'cottonwood', 'count': 0, 'created_date': datetime.datetime(2018, 5, 17, 18, 56, 20)}, {'allergen_id': 156, 'allergen_type': 'TREE', 'allergen_name': 'hackberry', 'count': 0, 'created_date': datetime.datetime(2018, 5, 17, 18, 56, 20)}, {'allergen_id': 157, 'allergen_type': 'TREE', 'allergen_name': 'oak', 'count': 0, 'created_date': datetime.datetime(2018, 5, 17, 18, 56, 20)}, {'allergen_id': 158, 'allergen_type': 'TREE', 'allergen_name': 'hazelnut', 'count': 0, 'created_date': datetime.datetime(2018, 5, 17, 18, 56, 20)}, {'allergen_id': 159, 'allergen_type': 'TREE', 'allergen_name': 'willow', 'count': 0, 'created_date': datetime.datetime(2018, 5, 17, 18, 56, 20)}, {'allergen_id': 160, 'allergen_type': 'TREE', 'allergen_name': 'cedar', 'count': 0, 'created_date': datetime.datetime(2018, 5, 17, 18, 56, 20)}, {'allergen_id': 161, 'allergen_type': 'TREE', 'allergen_name': 'linden', 'count': 0, 'created_date': datetime.datetime(2018, 5, 17, 18, 56, 20)}, {'allergen_id': 162, 'allergen_type': 'TREE', 'allergen_name': 'ash', 'count': 0, 'created_date': datetime.datetime(2018, 5, 17, 18, 56, 20)}, {'allergen_id': 163, 'allergen_type': 'TREE', 'allergen_name': 'elm', 'count': 0, 'created_date': datetime.datetime(2018, 5, 17, 18, 56, 20)}, {'allergen_id': 164, 'allergen_type': 'TREE', 'allergen_name': 'walnut', 'count': 0, 'created_date': datetime.datetime(2018, 5, 17, 18, 56, 20)}, {'allergen_id': 165, 'allergen_type': 'TREE', 'allergen_name': 'sweet', 'count': 0, 'created_date': datetime.datetime(2018, 5, 17, 18, 56, 20)}, {'allergen_id': 166, 'allergen_type': 'TREE', 'allergen_name': 'other tree', 'count': 0, 'created_date': datetime.datetime(2018, 5, 17, 18, 56, 20)}, {'allergen_id': 167, 'allergen_type': 'WEED', 'allergen_name': 'ragweed', 'count': 0, 'created_date': datetime.datetime(2018, 5, 17, 18, 56, 20)}, {'allergen_id': 168, 'allergen_type': 'WEED', 'allergen_name': 'plantain', 'count': 2, 'created_date': datetime.datetime(2018, 5, 17, 18, 56, 20)}, {'allergen_id': 169, 'allergen_type': 'WEED', 'allergen_name': 'sage', 'count': 10, 'created_date': datetime.datetime(2018, 5, 17, 18, 56, 20)}, {'allergen_id': 170, 'allergen_type': 'WEED', 'allergen_name': 'sheep', 'count': 2, 'created_date': datetime.datetime(2018, 5, 17, 18, 56, 20)}, {'allergen_id': 171, 'allergen_type': 'WEED', 'allergen_name': 'aster', 'count': 0, 'created_date': datetime.datetime(2018, 5, 17, 18, 56, 20)}, {'allergen_id': 172, 'allergen_type': 'WEED', 'allergen_name': 'cattail', 'count': 0, 'created_date': datetime.datetime(2018, 5, 17, 18, 56, 20)}, {'allergen_id': 173, 'allergen_type': 'WEED', 'allergen_name': 'amaranth', 'count': 0, 'created_date': datetime.datetime(2018, 5, 17, 18, 56, 20)}, {'allergen_id': 174, 'allergen_type': 'WEED', 'allergen_name': 'nettle', 'count': 4, 'created_date': datetime.datetime(2018, 5, 17, 18, 56, 20)}, {'allergen_id': 175, 'allergen_type': 'WEED', 'allergen_name': 'sedge', 'count': 6, 'created_date': datetime.datetime(2018, 5, 17, 18, 56, 20)}, {'allergen_id': 176, 'allergen_type': 'WEED', 'allergen_name': 'other weed', 'count': 10, 'created_date': datetime.datetime(2018, 5, 17, 18, 56, 20)}, {'allergen_id': 177, 'allergen_type': 'MOLD', 'allergen_name': 'algae', 'count': 91, 'created_date': datetime.datetime(2018, 5, 17, 18, 56, 20)}, {'allergen_id': 178, 'allergen_type': 'MOLD', 'allergen_name': 'erysiphe', 'count': 4, 'created_date': datetime.datetime(2018, 5, 17, 18, 56, 20)}, {'allergen_id': 179, 'allergen_type': 'MOLD', 'allergen_name': 'alternaria', 'count': 168, 'created_date': datetime.datetime(2018, 5, 17, 18, 56, 20)}, {'allergen_id': 180, 'allergen_type': 'MOLD', 'allergen_name': 'aspergillus', 'count': 56, 'created_date': datetime.datetime(2018, 5, 17, 18, 56, 20)}, {'allergen_id': 181, 'allergen_type': 'MOLD', 'allergen_name': 'ascopores', 'count': 1913, 'created_date': datetime.datetime(2018, 5, 17, 18, 56, 20)}, {'allergen_id': 182, 'allergen_type': 'MOLD', 'allergen_name': 'periconia', 'count': 18, 'created_date': datetime.datetime(2018, 5, 17, 18, 56, 20)}, {'allergen_id': 183, 'allergen_type': 'MOLD', 'allergen_name': 'basidiospores', 'count': 243, 'created_date': datetime.datetime(2018, 5, 17, 18, 56, 20)}, {'allergen_id': 184, 'allergen_type': 'MOLD', 'allergen_name': 'pithomyces', 'count': 2, 'created_date': datetime.datetime(2018, 5, 17, 18, 56, 20)}, {'allergen_id': 185, 'allergen_type': 'MOLD', 'allergen_name': 'cercospora', 'count': 38, 'created_date': datetime.datetime(2018, 5, 17, 18, 56, 20)}, {'allergen_id': 186, 'allergen_type': 'MOLD', 'allergen_name': 'rusts', 'count': 26, 'created_date': datetime.datetime(2018, 5, 17, 18, 56, 20)}, {'allergen_id': 187, 'allergen_type': 'MOLD', 'allergen_name': 'cladosporium', 'count': 4793, 'created_date': datetime.datetime(2018, 5, 17, 18, 56, 20)}, {'allergen_id': 188, 'allergen_type': 'MOLD', 'allergen_name': 'myxomycetes', 'count': 155, 'created_date': datetime.datetime(2018, 5, 17, 18, 56, 20)}, {'allergen_id': 189, 'allergen_type': 'MOLD', 'allergen_name': 'curvularia', 'count': 18, 'created_date': datetime.datetime(2018, 5, 17, 18, 56, 20)}, {'allergen_id': 190, 'allergen_type': 'MOLD', 'allergen_name': 'spegazzinia', 'count': 4, 'created_date': datetime.datetime(2018, 5, 17, 18, 56, 20)}, {'allergen_id': 191, 'allergen_type': 'MOLD', 'allergen_name': 'helminthosporium', 'count': 22, 'created_date': datetime.datetime(2018, 5, 17, 18, 56, 20)}, {'allergen_id': 192, 'allergen_type': 'MOLD', 'allergen_name': 'stemphilium', 'count': 8, 'created_date': datetime.datetime(2018, 5, 17, 18, 56, 20)}, {'allergen_id': 193, 'allergen_type': 'MOLD', 'allergen_name': 'epicoccum', 'count': 66, 'created_date': datetime.datetime(2018, 5, 17, 18, 56, 20)}, {'allergen_id': 194, 'allergen_type': 'MOLD', 'allergen_name': 'tetraploa', 'count': 4, 'created_date': datetime.datetime(2018, 5, 17, 18, 56, 20)}, {'allergen_id': 195, 'allergen_type': 'MOLD', 'allergen_name': 'nigrospora', 'count': 4, 'created_date': datetime.datetime(2018, 5, 17, 18, 56, 20)}, {'allergen_id': 196, 'allergen_type': 'MOLD', 'allergen_name': 'torula', 'count': 28, 'created_date': datetime.datetime(2018, 5, 17, 18, 56, 20)}, {'allergen_id': 197, 'allergen_type': 'TREE', 'allergen_name': 'maple', 'count': 0, 'created_date': datetime.datetime(2018, 5, 18, 18, 56, 20)}, {'allergen_id': 198, 'allergen_type': 'TREE', 'allergen_name': 'mulberry', 'count': 0, 'created_date': datetime.datetime(2018, 5, 18, 18, 56, 20)}, {'allergen_id': 199, 'allergen_type': 'TREE', 'allergen_name': 'alder', 'count': 0, 'created_date': datetime.datetime(2018, 5, 18, 18, 56, 20)}, {'allergen_id': 200, 'allergen_type': 'TREE', 'allergen_name': 'pine', 'count': 2, 'created_date': datetime.datetime(2018, 5, 18, 18, 56, 20)}, {'allergen_id': 201, 'allergen_type': 'TREE', 'allergen_name': 'birch', 'count': 0, 'created_date': datetime.datetime(2018, 5, 18, 18, 56, 20)}, {'allergen_id': 202, 'allergen_type': 'TREE', 'allergen_name': 'sycamore', 'count': 0, 'created_date': datetime.datetime(2018, 5, 18, 18, 56, 20)}, {'allergen_id': 203, 'allergen_type': 'TREE', 'allergen_name': 'hickory,', 'count': 6, 'created_date': datetime.datetime(2018, 5, 18, 18, 56, 20)}, {'allergen_id': 204, 'allergen_type': 'TREE', 'allergen_name': 'cottonwood', 'count': 0, 'created_date': datetime.datetime(2018, 5, 18, 18, 56, 20)}, {'allergen_id': 205, 'allergen_type': 'TREE', 'allergen_name': 'hackberry', 'count': 0, 'created_date': datetime.datetime(2018, 5, 18, 18, 56, 20)}, {'allergen_id': 206, 'allergen_type': 'TREE', 'allergen_name': 'oak', 'count': 0, 'created_date': datetime.datetime(2018, 5, 18, 18, 56, 20)}, {'allergen_id': 207, 'allergen_type': 'TREE', 'allergen_name': 'hazelnut', 'count': 0, 'created_date': datetime.datetime(2018, 5, 18, 18, 56, 20)}, {'allergen_id': 208, 'allergen_type': 'TREE', 'allergen_name': 'willow', 'count': 0, 'created_date': datetime.datetime(2018, 5, 18, 18, 56, 20)}, {'allergen_id': 209, 'allergen_type': 'TREE', 'allergen_name': 'cedar', 'count': 0, 'created_date': datetime.datetime(2018, 5, 18, 18, 56, 20)}, {'allergen_id': 210, 'allergen_type': 'TREE', 'allergen_name': 'linden', 'count': 0, 'created_date': datetime.datetime(2018, 5, 18, 18, 56, 20)}, {'allergen_id': 211, 'allergen_type': 'TREE', 'allergen_name': 'ash', 'count': 0, 'created_date': datetime.datetime(2018, 5, 18, 18, 56, 20)}, {'allergen_id': 212, 'allergen_type': 'TREE', 'allergen_name': 'elm', 'count': 0, 'created_date': datetime.datetime(2018, 5, 18, 18, 56, 20)}, {'allergen_id': 213, 'allergen_type': 'TREE', 'allergen_name': 'walnut', 'count': 0, 'created_date': datetime.datetime(2018, 5, 18, 18, 56, 20)}, {'allergen_id': 214, 'allergen_type': 'TREE', 'allergen_name': 'sweet', 'count': 0, 'created_date': datetime.datetime(2018, 5, 18, 18, 56, 20)}, {'allergen_id': 215, 'allergen_type': 'TREE', 'allergen_name': 'other tree', 'count': 2, 'created_date': datetime.datetime(2018, 5, 18, 18, 56, 20)}, {'allergen_id': 216, 'allergen_type': 'WEED', 'allergen_name': 'ragweed', 'count': 0, 'created_date': datetime.datetime(2018, 5, 18, 18, 56, 20)}, {'allergen_id': 217, 'allergen_type': 'WEED', 'allergen_name': 'plantain', 'count': 6, 'created_date': datetime.datetime(2018, 5, 18, 18, 56, 20)}, {'allergen_id': 218, 'allergen_type': 'WEED', 'allergen_name': 'sage', 'count': 6, 'created_date': datetime.datetime(2018, 5, 18, 18, 56, 20)}, {'allergen_id': 219, 'allergen_type': 'WEED', 'allergen_name': 'sheep', 'count': 0, 'created_date': datetime.datetime(2018, 5, 18, 18, 56, 20)}, {'allergen_id': 220, 'allergen_type': 'WEED', 'allergen_name': 'aster', 'count': 0, 'created_date': datetime.datetime(2018, 5, 18, 18, 56, 20)}, {'allergen_id': 221, 'allergen_type': 'WEED', 'allergen_name': 'cattail', 'count': 0, 'created_date': datetime.datetime(2018, 5, 18, 18, 56, 20)}, {'allergen_id': 222, 'allergen_type': 'WEED', 'allergen_name': 'amaranth', 'count': 0, 'created_date': datetime.datetime(2018, 5, 18, 18, 56, 20)}, {'allergen_id': 223, 'allergen_type': 'WEED', 'allergen_name': 'nettle', 'count': 8, 'created_date': datetime.datetime(2018, 5, 18, 18, 56, 20)}, {'allergen_id': 224, 'allergen_type': 'WEED', 'allergen_name': 'sedge', 'count': 2, 'created_date': datetime.datetime(2018, 5, 18, 18, 56, 20)}, {'allergen_id': 225, 'allergen_type': 'WEED', 'allergen_name': 'other weed', 'count': 10, 'created_date': datetime.datetime(2018, 5, 18, 18, 56, 20)}, {'allergen_id': 226, 'allergen_type': 'MOLD', 'allergen_name': 'algae', 'count': 54, 'created_date': datetime.datetime(2018, 5, 18, 18, 56, 20)}, {'allergen_id': 227, 'allergen_type': 'MOLD', 'allergen_name': 'erysiphe', 'count': 0, 'created_date': datetime.datetime(2018, 5, 18, 18, 56, 20)}, {'allergen_id': 228, 'allergen_type': 'MOLD', 'allergen_name': 'alternaria', 'count': 157, 'created_date': datetime.datetime(2018, 5, 18, 18, 56, 20)}, {'allergen_id': 229, 'allergen_type': 'MOLD', 'allergen_name': 'aspergillus', 'count': 0, 'created_date': datetime.datetime(2018, 5, 18, 18, 56, 20)}, {'allergen_id': 230, 'allergen_type': 'MOLD', 'allergen_name': 'ascopores', 'count': 2357, 'created_date': datetime.datetime(2018, 5, 18, 18, 56, 20)}, {'allergen_id': 231, 'allergen_type': 'MOLD', 'allergen_name': 'periconia', 'count': 16, 'created_date': datetime.datetime(2018, 5, 18, 18, 56, 20)}, {'allergen_id': 232, 'allergen_type': 'MOLD', 'allergen_name': 'basidiospores', 'count': 194, 'created_date': datetime.datetime(2018, 5, 18, 18, 56, 20)}, {'allergen_id': 233, 'allergen_type': 'MOLD', 'allergen_name': 'pithomyces', 'count': 0, 'created_date': datetime.datetime(2018, 5, 18, 18, 56, 20)}, {'allergen_id': 234, 'allergen_type': 'MOLD', 'allergen_name': 'cercospora', 'count': 52, 'created_date': datetime.datetime(2018, 5, 18, 18, 56, 20)}, {'allergen_id': 235, 'allergen_type': 'MOLD', 'allergen_name': 'rusts', 'count': 16, 'created_date': datetime.datetime(2018, 5, 18, 18, 56, 20)}, {'allergen_id': 236, 'allergen_type': 'MOLD', 'allergen_name': 'cladosporium', 'count': 5431, 'created_date': datetime.datetime(2018, 5, 18, 18, 56, 20)}, {'allergen_id': 237, 'allergen_type': 'MOLD', 'allergen_name': 'myxomycetes', 'count': 226, 'created_date': datetime.datetime(2018, 5, 18, 18, 56, 20)}, {'allergen_id': 238, 'allergen_type': 'MOLD', 'allergen_name': 'curvularia', 'count': 18, 'created_date': datetime.datetime(2018, 5, 18, 18, 56, 20)}, {'allergen_id': 239, 'allergen_type': 'MOLD', 'allergen_name': 'spegazzinia', 'count': 6, 'created_date': datetime.datetime(2018, 5, 18, 18, 56, 20)}, {'allergen_id': 240, 'allergen_type': 'MOLD', 'allergen_name': 'helminthosporium', 'count': 22, 'created_date': datetime.datetime(2018, 5, 18, 18, 56, 20)}, {'allergen_id': 241, 'allergen_type': 'MOLD', 'allergen_name': 'stemphilium', 'count': 10, 'created_date': datetime.datetime(2018, 5, 18, 18, 56, 20)}, {'allergen_id': 242, 'allergen_type': 'MOLD', 'allergen_name': 'epicoccum', 'count': 99, 'created_date': datetime.datetime(2018, 5, 18, 18, 56, 20)}, {'allergen_id': 243, 'allergen_type': 'MOLD', 'allergen_name': 'tetraploa', 'count': 4, 'created_date': datetime.datetime(2018, 5, 18, 18, 56, 20)}, {'allergen_id': 244, 'allergen_type': 'MOLD', 'allergen_name': 'nigrospora', 'count': 14, 'created_date': datetime.datetime(2018, 5, 18, 18, 56, 20)}, {'allergen_id': 245, 'allergen_type': 'MOLD', 'allergen_name': 'torula', 'count': 24, 'created_date': datetime.datetime(2018, 5, 18, 18, 56, 20)}]\n"
     ]
    }
   ],
   "source": [
    "cursor.execute(\"\"\"select * from allergens\"\"\")\n",
    "print(cursor.fetchall())"
   ]
  },
  {
   "cell_type": "code",
   "execution_count": 56,
   "metadata": {},
   "outputs": [],
   "source": [
    "db.close()"
   ]
  },
  {
   "cell_type": "code",
   "execution_count": null,
   "metadata": {},
   "outputs": [],
   "source": []
  },
  {
   "cell_type": "code",
   "execution_count": null,
   "metadata": {},
   "outputs": [],
   "source": []
  },
  {
   "cell_type": "code",
   "execution_count": null,
   "metadata": {},
   "outputs": [],
   "source": []
  }
 ],
 "metadata": {
  "kernelspec": {
   "display_name": "Python 3",
   "language": "python",
   "name": "python3"
  },
  "language_info": {
   "codemirror_mode": {
    "name": "ipython",
    "version": 3
   },
   "file_extension": ".py",
   "mimetype": "text/x-python",
   "name": "python",
   "nbconvert_exporter": "python",
   "pygments_lexer": "ipython3",
   "version": "3.6.5"
  }
 },
 "nbformat": 4,
 "nbformat_minor": 2
}
