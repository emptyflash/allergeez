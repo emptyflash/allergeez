{
 "cells": [
  {
   "cell_type": "code",
   "execution_count": 8,
   "metadata": {},
   "outputs": [
    {
     "name": "stdout",
     "output_type": "stream",
     "text": [
      "Requirement already satisfied: beautifulsoup4 in /usr/local/lib/python3.6/site-packages (4.6.0)\n",
      "Requirement already satisfied: requests in /usr/local/lib/python3.6/site-packages (2.11.1)\n",
      "Requirement already satisfied: lxml in /usr/local/lib/python3.6/site-packages (3.7.2)\n"
     ]
    }
   ],
   "source": [
    "!pip3 install beautifulsoup4\n",
    "!pip3 install requests\n",
    "!pip3 install lxml"
   ]
  },
  {
   "cell_type": "code",
   "execution_count": 3,
   "metadata": {},
   "outputs": [],
   "source": [
    "from bs4 import BeautifulSoup\n",
    "import requests\n",
    "from datetime import datetime\n",
    "import pymysql"
   ]
  },
  {
   "cell_type": "code",
   "execution_count": 4,
   "metadata": {},
   "outputs": [],
   "source": [
    "req  = requests.get(\"http://www.houstontx.gov/health/Pollen-Mold/Mondays.html\")\n",
    "soup = BeautifulSoup(req.text, \"lxml\")"
   ]
  },
  {
   "cell_type": "code",
   "execution_count": 5,
   "metadata": {},
   "outputs": [],
   "source": [
    "table1=soup.find_all('table')[1]"
   ]
  },
  {
   "cell_type": "code",
   "execution_count": 6,
   "metadata": {},
   "outputs": [
    {
     "name": "stdout",
     "output_type": "stream",
     "text": [
      "0 tree 12\n",
      "1 weed 14\n",
      "2 grass 10\n",
      "3 mold 4285\n"
     ]
    }
   ],
   "source": [
    "labels=['tree', 'weed','grass','mold']\n",
    "for i in range(4):\n",
    "    table1sel=table1.findAll(\"td\")[i].findAll(\"strong\")[0]\n",
    "    a=[x.strip() for x in table1sel.contents if getattr(x, 'name', None) != 'br'][-1]\n",
    "    print(i, labels[i], int(a.replace(',' , '')))"
   ]
  },
  {
   "cell_type": "code",
   "execution_count": 7,
   "metadata": {},
   "outputs": [],
   "source": [
    "table2=soup.find_all('table')[2]"
   ]
  },
  {
   "cell_type": "code",
   "execution_count": 8,
   "metadata": {},
   "outputs": [],
   "source": [
    "#table2.findAll(\"td\", {'width':'35%'})"
   ]
  },
  {
   "cell_type": "code",
   "execution_count": 9,
   "metadata": {},
   "outputs": [],
   "source": [
    "#table2.findAll(\"td\", {'width':'35%'})[0].findAll(\"strong\")[0].contents[0].strip()"
   ]
  },
  {
   "cell_type": "code",
   "execution_count": 10,
   "metadata": {},
   "outputs": [
    {
     "name": "stdout",
     "output_type": "stream",
     "text": [
      "Acer (Maple) 0\n",
      "Morus (Mulberry) 0\n",
      "Alnus (Alder) 0\n",
      "Pinaceae (Pine) 0\n",
      "Betula (Birch) 0\n",
      "Platanus (Sycamore) 0\n",
      "Carya (Hickory, Pecan) 4\n",
      "Populus (Cottonwood) 2\n",
      "Celtis (Hackberry) 0\n",
      "Quercus (Oak) 4\n",
      "Corylus (Hazelnut) 0\n",
      "Salix (Willow) 0\n",
      "Cupressaceae (Cedar) 0\n",
      "Tilia (Linden) 0\n",
      "Fraxinus (Ash) 0\n",
      "Ulmus (Elm) 0\n",
      "Juglans (Walnut) 0\n",
      "Liquidamber (Sweet Gum) 0\n",
      "Other Tree Pollen/Unknown 2\n"
     ]
    }
   ],
   "source": [
    "for i in range(20):\n",
    "    a=table2.findAll(\"td\", {'width':'35%'})[i].findAll(\"strong\")[0].contents[0].strip()\n",
    "    if len(a)>0:\n",
    "        b=table2.findAll(\"td\", {'align':'left'})[i].findAll(\"strong\")[0].findAll(text=True)\n",
    "        print(a,int(b[0]))"
   ]
  },
  {
   "cell_type": "code",
   "execution_count": null,
   "metadata": {},
   "outputs": [],
   "source": []
  },
  {
   "cell_type": "code",
   "execution_count": 11,
   "metadata": {},
   "outputs": [
    {
     "name": "stdout",
     "output_type": "stream",
     "text": [
      "Maple Acer\n"
     ]
    }
   ],
   "source": [
    "i=0\n",
    "a=table2.findAll(\"td\", {'width':'35%'})[i].findAll(\"strong\")[0].contents[0].strip()\n",
    "\n",
    "print(a.split('(')[-1].replace(')',''), a.split(' (')[0])"
   ]
  },
  {
   "cell_type": "code",
   "execution_count": 12,
   "metadata": {},
   "outputs": [],
   "source": [
    "tree_pollen={}\n",
    "for i in range(20):\n",
    "    a=table2.findAll(\"td\", {'width':'35%'})[i].findAll(\"strong\")[0].contents[0].strip()\n",
    "    a_name=a.split('(')[-1].replace(')','')\n",
    "    if len(a)>0:\n",
    "        b=table2.findAll(\"td\", {'align':'left'})[i].findAll(\"strong\")[0].findAll(text=True)\n",
    "        #print(a_name,int(b[0]))\n",
    "        tree_pollen[a_name]=int(b[0])\n",
    "        "
   ]
  },
  {
   "cell_type": "code",
   "execution_count": 13,
   "metadata": {},
   "outputs": [
    {
     "data": {
      "text/plain": [
       "{'Maple': 0,\n",
       " 'Mulberry': 0,\n",
       " 'Alder': 0,\n",
       " 'Pine': 0,\n",
       " 'Birch': 0,\n",
       " 'Sycamore': 0,\n",
       " 'Hickory, Pecan': 4,\n",
       " 'Cottonwood': 2,\n",
       " 'Hackberry': 0,\n",
       " 'Oak': 4,\n",
       " 'Hazelnut': 0,\n",
       " 'Willow': 0,\n",
       " 'Cedar': 0,\n",
       " 'Linden': 0,\n",
       " 'Ash': 0,\n",
       " 'Elm': 0,\n",
       " 'Walnut': 0,\n",
       " 'Sweet Gum': 0,\n",
       " 'Other Tree Pollen/Unknown': 2}"
      ]
     },
     "execution_count": 13,
     "metadata": {},
     "output_type": "execute_result"
    }
   ],
   "source": [
    "tree_pollen"
   ]
  },
  {
   "cell_type": "code",
   "execution_count": 14,
   "metadata": {},
   "outputs": [
    {
     "data": {
      "text/plain": [
       "12"
      ]
     },
     "execution_count": 14,
     "metadata": {},
     "output_type": "execute_result"
    }
   ],
   "source": [
    "sum(list(tree_pollen.values()))"
   ]
  },
  {
   "cell_type": "code",
   "execution_count": 15,
   "metadata": {},
   "outputs": [],
   "source": [
    "weed_pollen={}\n",
    "table3=soup.find_all('table')[3]\n",
    "#table3\n",
    "for i in range(10):\n",
    "    a=table3.findAll(\"td\", {'width':'35%'})[i].findAll(\"strong\")[0].contents[0].strip()\n",
    "    a_name=a.split('(')[-1].replace(')','')\n",
    "    if len(a)>0:\n",
    "        b=table3.findAll(\"td\", {'align':'left'})[i].findAll(\"strong\")[0].findAll(text=True)\n",
    "        #print(a,int(b[0]))\n",
    "        weed_pollen[a_name]=int(b[0])"
   ]
  },
  {
   "cell_type": "code",
   "execution_count": 16,
   "metadata": {},
   "outputs": [
    {
     "data": {
      "text/plain": [
       "{'Ragweed': 0,\n",
       " 'Plantain': 0,\n",
       " 'Sage': 0,\n",
       " 'Sheep Sorel': 0,\n",
       " 'Aster': 0,\n",
       " 'Cattail': 0,\n",
       " 'Amaranth': 0,\n",
       " 'Nettle': 0,\n",
       " 'Sedge': 4,\n",
       " 'Other Weed Pollen': 10}"
      ]
     },
     "execution_count": 16,
     "metadata": {},
     "output_type": "execute_result"
    }
   ],
   "source": [
    "weed_pollen"
   ]
  },
  {
   "cell_type": "code",
   "execution_count": 17,
   "metadata": {},
   "outputs": [
    {
     "data": {
      "text/plain": [
       "14"
      ]
     },
     "execution_count": 17,
     "metadata": {},
     "output_type": "execute_result"
    }
   ],
   "source": [
    "sum(list(weed_pollen.values()))"
   ]
  },
  {
   "cell_type": "code",
   "execution_count": 36,
   "metadata": {},
   "outputs": [
    {
     "data": {
      "text/plain": [
       "['0']"
      ]
     },
     "execution_count": 36,
     "metadata": {},
     "output_type": "execute_result"
    }
   ],
   "source": [
    "i=18\n",
    "\n",
    "a=table4.findAll(\"td\", {'width':'35%'})[i].findAll(\"strong\")[0].contents[0].strip()\n",
    "#a\n",
    "table4.findAll(\"td\", {'align':'left'})[i].findAll(text=True)"
   ]
  },
  {
   "cell_type": "code",
   "execution_count": 38,
   "metadata": {},
   "outputs": [
    {
     "name": "stdout",
     "output_type": "stream",
     "text": [
      "0 Algae 0\n",
      "1 Erysiphe 0\n",
      "2 Alternaria 56\n",
      "3 Aspergillus 6\n",
      "4 Ascopores 1707\n",
      "5 Periconia 0\n",
      "6 Basidiospores 145\n",
      "7 Pithomyces 0\n",
      "8 Cercospora 26\n",
      "9 Rusts 12\n",
      "10 Cladosporium 2253\n",
      "11 Myxomycetes 54\n",
      "12 Curvularia 4\n",
      "13 Spegazzinia 6\n",
      "14 Helminthosporium 2\n",
      "15 Stemphilium 0\n",
      "16 Epicoccum 14\n",
      "17 Tetraploa 0\n",
      "18 Nigrospora 0\n",
      "19 Torula 0\n"
     ]
    }
   ],
   "source": [
    "mold_pollen={}\n",
    "table4=soup.find_all('table')[4]\n",
    "for i in range(20):\n",
    "    a=table4.findAll(\"td\", {'width':'35%'})[i].findAll(\"strong\")[0].contents[0].strip()\n",
    "    if len(a)>0:\n",
    "        a_name=a.split('/')[-1]\n",
    "        try:\n",
    "          b=table4.findAll(\"td\", {'align':'left'})[i].findAll(\"strong\")[0].findAll(text=True)\n",
    "        except:\n",
    "          b=table4.findAll(\"td\", {'align':'left'})[i].findAll(text=True)\n",
    "        b2=[x for x in b if getattr(x, 'name', None) != 'br'][-1]\n",
    "        mold_pollen[a_name]=int(b2.replace(',' , ''))\n",
    "        print(i, a_name,int(b2.replace(',' , '')))"
   ]
  },
  {
   "cell_type": "code",
   "execution_count": 39,
   "metadata": {},
   "outputs": [
    {
     "data": {
      "text/plain": [
       "{'Algae': 0,\n",
       " 'Erysiphe': 0,\n",
       " 'Alternaria': 56,\n",
       " 'Aspergillus': 6,\n",
       " 'Ascopores': 1707,\n",
       " 'Periconia': 0,\n",
       " 'Basidiospores': 145,\n",
       " 'Pithomyces': 0,\n",
       " 'Cercospora': 26,\n",
       " 'Rusts': 12,\n",
       " 'Cladosporium': 2253,\n",
       " 'Myxomycetes': 54,\n",
       " 'Curvularia': 4,\n",
       " 'Spegazzinia': 6,\n",
       " 'Helminthosporium': 2,\n",
       " 'Stemphilium': 0,\n",
       " 'Epicoccum': 14,\n",
       " 'Tetraploa': 0,\n",
       " 'Nigrospora': 0,\n",
       " 'Torula': 0}"
      ]
     },
     "execution_count": 39,
     "metadata": {},
     "output_type": "execute_result"
    }
   ],
   "source": [
    "mold_pollen"
   ]
  },
  {
   "cell_type": "code",
   "execution_count": 40,
   "metadata": {},
   "outputs": [
    {
     "data": {
      "text/plain": [
       "4285"
      ]
     },
     "execution_count": 40,
     "metadata": {},
     "output_type": "execute_result"
    }
   ],
   "source": [
    "sum(list(mold_pollen.values()))"
   ]
  },
  {
   "cell_type": "code",
   "execution_count": 278,
   "metadata": {},
   "outputs": [],
   "source": []
  },
  {
   "cell_type": "code",
   "execution_count": 42,
   "metadata": {},
   "outputs": [
    {
     "data": {
      "text/plain": [
       "'2018-05-19 18:48:20.333209'"
      ]
     },
     "execution_count": 42,
     "metadata": {},
     "output_type": "execute_result"
    }
   ],
   "source": [
    "time=str(datetime.now())\n",
    "time"
   ]
  },
  {
   "cell_type": "code",
   "execution_count": 363,
   "metadata": {},
   "outputs": [
    {
     "data": {
      "text/plain": [
       "\"INSERT INTO `allergens` \\n(`allergen_type`, `allergen_name`, `count`, `created_date`) VALUES ('TREE', 'Maple', 0, '2018-05-19 17:51:41.442128'),('TREE', 'Mulberry', 0, '2018-05-19 17:51:41.442128'),('TREE', 'Alder', 0, '2018-05-19 17:51:41.442128'),('TREE', 'Pine', 2, '2018-05-19 17:51:41.442128'),('TREE', 'Birch', 0, '2018-05-19 17:51:41.442128'),('TREE', 'Sycamore', 0, '2018-05-19 17:51:41.442128'),('TREE', 'Hickory, Pecan', 6, '2018-05-19 17:51:41.442128'),('TREE', 'Cottonwood', 0, '2018-05-19 17:51:41.442128'),('TREE', 'Hackberry', 0, '2018-05-19 17:51:41.442128'),('TREE', 'Oak', 0, '2018-05-19 17:51:41.442128'),('TREE', 'Hazelnut', 0, '2018-05-19 17:51:41.442128'),('TREE', 'Willow', 0, '2018-05-19 17:51:41.442128'),('TREE', 'Cedar', 0, '2018-05-19 17:51:41.442128'),('TREE', 'Linden', 0, '2018-05-19 17:51:41.442128'),('TREE', 'Ash', 0, '2018-05-19 17:51:41.442128'),('TREE', 'Elm', 0, '2018-05-19 17:51:41.442128'),('TREE', 'Walnut', 0, '2018-05-19 17:51:41.442128'),('TREE', 'Sweet Gum', 0, '2018-05-19 17:51:41.442128'),('TREE', 'Other Tree Pollen/Unknown', 2, '2018-05-19 17:51:41.442128'),('WEED', 'Ragweed', 0, '2018-05-19 17:51:41.442128'),('WEED', 'Plantain', 6, '2018-05-19 17:51:41.442128'),('WEED', 'Sage', 6, '2018-05-19 17:51:41.442128'),('WEED', 'Sheep Sorel', 0, '2018-05-19 17:51:41.442128'),('WEED', 'Aster', 0, '2018-05-19 17:51:41.442128'),('WEED', 'Cattail', 0, '2018-05-19 17:51:41.442128'),('WEED', 'Amaranth', 0, '2018-05-19 17:51:41.442128'),('WEED', 'Nettle', 8, '2018-05-19 17:51:41.442128'),('WEED', 'Sedge', 2, '2018-05-19 17:51:41.442128'),('WEED', 'Other Weed Pollen', 10, '2018-05-19 17:51:41.442128'),('WEED', 'Algae', 54, '2018-05-19 17:51:41.442128'),('WEED', 'Erysiphe', 0, '2018-05-19 17:51:41.442128'),('WEED', 'Alternaria', 157, '2018-05-19 17:51:41.442128'),('WEED', 'Aspergillus', 0, '2018-05-19 17:51:41.442128'),('WEED', 'Ascopores', 2357, '2018-05-19 17:51:41.442128'),('WEED', 'Periconia', 16, '2018-05-19 17:51:41.442128'),('WEED', 'Basidiospores', 194, '2018-05-19 17:51:41.442128'),('WEED', 'Pithomyces', 0, '2018-05-19 17:51:41.442128'),('WEED', 'Cercospora', 52, '2018-05-19 17:51:41.442128'),('WEED', 'Rusts', 16, '2018-05-19 17:51:41.442128'),('WEED', 'Cladosporium', 5431, '2018-05-19 17:51:41.442128'),('WEED', 'Myxomycetes', 226, '2018-05-19 17:51:41.442128'),('WEED', 'Curvularia', 18, '2018-05-19 17:51:41.442128'),('WEED', 'Spegazzinia', 6, '2018-05-19 17:51:41.442128'),('WEED', 'Helminthosporium', 22, '2018-05-19 17:51:41.442128'),('WEED', 'Stemphilium', 10, '2018-05-19 17:51:41.442128'),('WEED', 'Epicoccum', 99, '2018-05-19 17:51:41.442128'),('WEED', 'Tetraploa', 4, '2018-05-19 17:51:41.442128'),('WEED', 'Nigrospora', 14, '2018-05-19 17:51:41.442128'),('WEED', 'Torula', 24, '2018-05-19 17:51:41.442128'),('MOLD', 'Algae', 54, '2018-05-19 17:51:41.442128'),('MOLD', 'Erysiphe', 0, '2018-05-19 17:51:41.442128'),('MOLD', 'Alternaria', 157, '2018-05-19 17:51:41.442128'),('MOLD', 'Aspergillus', 0, '2018-05-19 17:51:41.442128'),('MOLD', 'Ascopores', 2357, '2018-05-19 17:51:41.442128'),('MOLD', 'Periconia', 16, '2018-05-19 17:51:41.442128'),('MOLD', 'Basidiospores', 194, '2018-05-19 17:51:41.442128'),('MOLD', 'Pithomyces', 0, '2018-05-19 17:51:41.442128'),('MOLD', 'Cercospora', 52, '2018-05-19 17:51:41.442128'),('MOLD', 'Rusts', 16, '2018-05-19 17:51:41.442128'),('MOLD', 'Cladosporium', 5431, '2018-05-19 17:51:41.442128'),('MOLD', 'Myxomycetes', 226, '2018-05-19 17:51:41.442128'),('MOLD', 'Curvularia', 18, '2018-05-19 17:51:41.442128'),('MOLD', 'Spegazzinia', 6, '2018-05-19 17:51:41.442128'),('MOLD', 'Helminthosporium', 22, '2018-05-19 17:51:41.442128'),('MOLD', 'Stemphilium', 10, '2018-05-19 17:51:41.442128'),('MOLD', 'Epicoccum', 99, '2018-05-19 17:51:41.442128'),('MOLD', 'Tetraploa', 4, '2018-05-19 17:51:41.442128'),('MOLD', 'Nigrospora', 14, '2018-05-19 17:51:41.442128'),('MOLD', 'Torula', 24, '2018-05-19 17:51:41.442128');\""
      ]
     },
     "execution_count": 363,
     "metadata": {},
     "output_type": "execute_result"
    }
   ],
   "source": [
    "str_db=\"\"\"INSERT INTO `allergens` \n",
    "(`allergen_type`, `allergen_name`, `count`, `created_date`) VALUES \"\"\"\n",
    "time=str(datetime.now())\n",
    "for i,(k,v) in enumerate(tree_pollen.items()):\n",
    "    str_2=\"\"\"('%s', '%s', %s, '%s'),\"\"\" % ('TREE', k,v, time)\n",
    "    str_db=str_db+str_2\n",
    "\n",
    "for i,(k,v) in enumerate(weed_pollen.items()):\n",
    "    str_2=\"\"\"('%s', '%s', %s, '%s'),\"\"\" % ('WEED', k,v, time)\n",
    "    str_db=str_db+str_2                                         \n",
    "\n",
    "for i,(k,v) in enumerate(mold_pollen.items()):\n",
    "    str_2=\"\"\"('%s', '%s', %s, '%s')\"\"\" % ('MOLD', k,v, time)\n",
    "    str_db=str_db+str_2\n",
    "    if i == (len(mold_pollen)-1):\n",
    "        str_db=str_db+';'\n",
    "    else:\n",
    "        str_db =str_db+','\n",
    "str_db"
   ]
  },
  {
   "cell_type": "code",
   "execution_count": 364,
   "metadata": {},
   "outputs": [],
   "source": [
    "cursor.execute(str_db)\n",
    "db.commit()"
   ]
  },
  {
   "cell_type": "code",
   "execution_count": 365,
   "metadata": {},
   "outputs": [
    {
     "name": "stdout",
     "output_type": "stream",
     "text": [
      "[{'allergen_id': 1, 'allergen_type': 'TREE', 'allergen_name': 'Maple', 'count': 0, 'created_date': datetime.datetime(2018, 5, 19, 17, 48, 48)}, {'allergen_id': 2, 'allergen_type': 'TREE', 'allergen_name': 'Mulberry', 'count': 0, 'created_date': datetime.datetime(2018, 5, 19, 17, 48, 48)}, {'allergen_id': 3, 'allergen_type': 'TREE', 'allergen_name': 'Alder', 'count': 0, 'created_date': datetime.datetime(2018, 5, 19, 17, 48, 48)}, {'allergen_id': 4, 'allergen_type': 'TREE', 'allergen_name': 'Pine', 'count': 2, 'created_date': datetime.datetime(2018, 5, 19, 17, 48, 48)}, {'allergen_id': 5, 'allergen_type': 'TREE', 'allergen_name': 'Birch', 'count': 0, 'created_date': datetime.datetime(2018, 5, 19, 17, 48, 48)}, {'allergen_id': 6, 'allergen_type': 'TREE', 'allergen_name': 'Sycamore', 'count': 0, 'created_date': datetime.datetime(2018, 5, 19, 17, 48, 48)}, {'allergen_id': 7, 'allergen_type': 'TREE', 'allergen_name': 'Hickory, Pecan', 'count': 6, 'created_date': datetime.datetime(2018, 5, 19, 17, 48, 48)}, {'allergen_id': 8, 'allergen_type': 'TREE', 'allergen_name': 'Cottonwood', 'count': 0, 'created_date': datetime.datetime(2018, 5, 19, 17, 48, 48)}, {'allergen_id': 9, 'allergen_type': 'TREE', 'allergen_name': 'Hackberry', 'count': 0, 'created_date': datetime.datetime(2018, 5, 19, 17, 48, 48)}, {'allergen_id': 10, 'allergen_type': 'TREE', 'allergen_name': 'Oak', 'count': 0, 'created_date': datetime.datetime(2018, 5, 19, 17, 48, 48)}, {'allergen_id': 11, 'allergen_type': 'TREE', 'allergen_name': 'Hazelnut', 'count': 0, 'created_date': datetime.datetime(2018, 5, 19, 17, 48, 48)}, {'allergen_id': 12, 'allergen_type': 'TREE', 'allergen_name': 'Willow', 'count': 0, 'created_date': datetime.datetime(2018, 5, 19, 17, 48, 48)}, {'allergen_id': 13, 'allergen_type': 'TREE', 'allergen_name': 'Cedar', 'count': 0, 'created_date': datetime.datetime(2018, 5, 19, 17, 48, 48)}, {'allergen_id': 14, 'allergen_type': 'TREE', 'allergen_name': 'Linden', 'count': 0, 'created_date': datetime.datetime(2018, 5, 19, 17, 48, 48)}, {'allergen_id': 15, 'allergen_type': 'TREE', 'allergen_name': 'Ash', 'count': 0, 'created_date': datetime.datetime(2018, 5, 19, 17, 48, 48)}, {'allergen_id': 16, 'allergen_type': 'TREE', 'allergen_name': 'Elm', 'count': 0, 'created_date': datetime.datetime(2018, 5, 19, 17, 48, 48)}, {'allergen_id': 17, 'allergen_type': 'TREE', 'allergen_name': 'Walnut', 'count': 0, 'created_date': datetime.datetime(2018, 5, 19, 17, 48, 48)}, {'allergen_id': 18, 'allergen_type': 'TREE', 'allergen_name': 'Sweet Gum', 'count': 0, 'created_date': datetime.datetime(2018, 5, 19, 17, 48, 48)}, {'allergen_id': 19, 'allergen_type': 'TREE', 'allergen_name': 'Other Tree Pollen/Unknown', 'count': 2, 'created_date': datetime.datetime(2018, 5, 19, 17, 48, 48)}, {'allergen_id': 20, 'allergen_type': 'WEED', 'allergen_name': 'Ragweed', 'count': 0, 'created_date': datetime.datetime(2018, 5, 19, 17, 48, 48)}, {'allergen_id': 21, 'allergen_type': 'WEED', 'allergen_name': 'Plantain', 'count': 6, 'created_date': datetime.datetime(2018, 5, 19, 17, 48, 48)}, {'allergen_id': 22, 'allergen_type': 'WEED', 'allergen_name': 'Sage', 'count': 6, 'created_date': datetime.datetime(2018, 5, 19, 17, 48, 48)}, {'allergen_id': 23, 'allergen_type': 'WEED', 'allergen_name': 'Sheep Sorel', 'count': 0, 'created_date': datetime.datetime(2018, 5, 19, 17, 48, 48)}, {'allergen_id': 24, 'allergen_type': 'WEED', 'allergen_name': 'Aster', 'count': 0, 'created_date': datetime.datetime(2018, 5, 19, 17, 48, 48)}, {'allergen_id': 25, 'allergen_type': 'WEED', 'allergen_name': 'Cattail', 'count': 0, 'created_date': datetime.datetime(2018, 5, 19, 17, 48, 48)}, {'allergen_id': 26, 'allergen_type': 'WEED', 'allergen_name': 'Amaranth', 'count': 0, 'created_date': datetime.datetime(2018, 5, 19, 17, 48, 48)}, {'allergen_id': 27, 'allergen_type': 'WEED', 'allergen_name': 'Nettle', 'count': 8, 'created_date': datetime.datetime(2018, 5, 19, 17, 48, 48)}, {'allergen_id': 28, 'allergen_type': 'WEED', 'allergen_name': 'Sedge', 'count': 2, 'created_date': datetime.datetime(2018, 5, 19, 17, 48, 48)}, {'allergen_id': 29, 'allergen_type': 'WEED', 'allergen_name': 'Other Weed Pollen', 'count': 10, 'created_date': datetime.datetime(2018, 5, 19, 17, 48, 48)}, {'allergen_id': 30, 'allergen_type': 'WEED', 'allergen_name': 'Algae', 'count': 54, 'created_date': datetime.datetime(2018, 5, 19, 17, 48, 48)}, {'allergen_id': 31, 'allergen_type': 'WEED', 'allergen_name': 'Erysiphe', 'count': 0, 'created_date': datetime.datetime(2018, 5, 19, 17, 48, 48)}, {'allergen_id': 32, 'allergen_type': 'WEED', 'allergen_name': 'Alternaria', 'count': 157, 'created_date': datetime.datetime(2018, 5, 19, 17, 48, 48)}, {'allergen_id': 33, 'allergen_type': 'WEED', 'allergen_name': 'Aspergillus', 'count': 0, 'created_date': datetime.datetime(2018, 5, 19, 17, 48, 48)}, {'allergen_id': 34, 'allergen_type': 'WEED', 'allergen_name': 'Ascopores', 'count': 2357, 'created_date': datetime.datetime(2018, 5, 19, 17, 48, 48)}, {'allergen_id': 35, 'allergen_type': 'WEED', 'allergen_name': 'Periconia', 'count': 16, 'created_date': datetime.datetime(2018, 5, 19, 17, 48, 48)}, {'allergen_id': 36, 'allergen_type': 'WEED', 'allergen_name': 'Basidiospores', 'count': 194, 'created_date': datetime.datetime(2018, 5, 19, 17, 48, 48)}, {'allergen_id': 37, 'allergen_type': 'WEED', 'allergen_name': 'Pithomyces', 'count': 0, 'created_date': datetime.datetime(2018, 5, 19, 17, 48, 48)}, {'allergen_id': 38, 'allergen_type': 'WEED', 'allergen_name': 'Cercospora', 'count': 52, 'created_date': datetime.datetime(2018, 5, 19, 17, 48, 48)}, {'allergen_id': 39, 'allergen_type': 'WEED', 'allergen_name': 'Rusts', 'count': 16, 'created_date': datetime.datetime(2018, 5, 19, 17, 48, 48)}, {'allergen_id': 40, 'allergen_type': 'WEED', 'allergen_name': 'Cladosporium', 'count': 5431, 'created_date': datetime.datetime(2018, 5, 19, 17, 48, 48)}, {'allergen_id': 41, 'allergen_type': 'WEED', 'allergen_name': 'Myxomycetes', 'count': 226, 'created_date': datetime.datetime(2018, 5, 19, 17, 48, 48)}, {'allergen_id': 42, 'allergen_type': 'WEED', 'allergen_name': 'Curvularia', 'count': 18, 'created_date': datetime.datetime(2018, 5, 19, 17, 48, 48)}, {'allergen_id': 43, 'allergen_type': 'WEED', 'allergen_name': 'Spegazzinia', 'count': 6, 'created_date': datetime.datetime(2018, 5, 19, 17, 48, 48)}, {'allergen_id': 44, 'allergen_type': 'WEED', 'allergen_name': 'Helminthosporium', 'count': 22, 'created_date': datetime.datetime(2018, 5, 19, 17, 48, 48)}, {'allergen_id': 45, 'allergen_type': 'WEED', 'allergen_name': 'Stemphilium', 'count': 10, 'created_date': datetime.datetime(2018, 5, 19, 17, 48, 48)}, {'allergen_id': 46, 'allergen_type': 'WEED', 'allergen_name': 'Epicoccum', 'count': 99, 'created_date': datetime.datetime(2018, 5, 19, 17, 48, 48)}, {'allergen_id': 47, 'allergen_type': 'WEED', 'allergen_name': 'Tetraploa', 'count': 4, 'created_date': datetime.datetime(2018, 5, 19, 17, 48, 48)}, {'allergen_id': 48, 'allergen_type': 'WEED', 'allergen_name': 'Nigrospora', 'count': 14, 'created_date': datetime.datetime(2018, 5, 19, 17, 48, 48)}, {'allergen_id': 49, 'allergen_type': 'WEED', 'allergen_name': 'Torula', 'count': 24, 'created_date': datetime.datetime(2018, 5, 19, 17, 48, 48)}, {'allergen_id': 50, 'allergen_type': 'MOLD', 'allergen_name': 'Algae', 'count': 54, 'created_date': datetime.datetime(2018, 5, 19, 17, 48, 48)}, {'allergen_id': 51, 'allergen_type': 'MOLD', 'allergen_name': 'Erysiphe', 'count': 0, 'created_date': datetime.datetime(2018, 5, 19, 17, 48, 48)}, {'allergen_id': 52, 'allergen_type': 'MOLD', 'allergen_name': 'Alternaria', 'count': 157, 'created_date': datetime.datetime(2018, 5, 19, 17, 48, 48)}, {'allergen_id': 53, 'allergen_type': 'MOLD', 'allergen_name': 'Aspergillus', 'count': 0, 'created_date': datetime.datetime(2018, 5, 19, 17, 48, 48)}, {'allergen_id': 54, 'allergen_type': 'MOLD', 'allergen_name': 'Ascopores', 'count': 2357, 'created_date': datetime.datetime(2018, 5, 19, 17, 48, 48)}, {'allergen_id': 55, 'allergen_type': 'MOLD', 'allergen_name': 'Periconia', 'count': 16, 'created_date': datetime.datetime(2018, 5, 19, 17, 48, 48)}, {'allergen_id': 56, 'allergen_type': 'MOLD', 'allergen_name': 'Basidiospores', 'count': 194, 'created_date': datetime.datetime(2018, 5, 19, 17, 48, 48)}, {'allergen_id': 57, 'allergen_type': 'MOLD', 'allergen_name': 'Pithomyces', 'count': 0, 'created_date': datetime.datetime(2018, 5, 19, 17, 48, 48)}, {'allergen_id': 58, 'allergen_type': 'MOLD', 'allergen_name': 'Cercospora', 'count': 52, 'created_date': datetime.datetime(2018, 5, 19, 17, 48, 48)}, {'allergen_id': 59, 'allergen_type': 'MOLD', 'allergen_name': 'Rusts', 'count': 16, 'created_date': datetime.datetime(2018, 5, 19, 17, 48, 48)}, {'allergen_id': 60, 'allergen_type': 'MOLD', 'allergen_name': 'Cladosporium', 'count': 5431, 'created_date': datetime.datetime(2018, 5, 19, 17, 48, 48)}, {'allergen_id': 61, 'allergen_type': 'MOLD', 'allergen_name': 'Myxomycetes', 'count': 226, 'created_date': datetime.datetime(2018, 5, 19, 17, 48, 48)}, {'allergen_id': 62, 'allergen_type': 'MOLD', 'allergen_name': 'Curvularia', 'count': 18, 'created_date': datetime.datetime(2018, 5, 19, 17, 48, 48)}, {'allergen_id': 63, 'allergen_type': 'MOLD', 'allergen_name': 'Spegazzinia', 'count': 6, 'created_date': datetime.datetime(2018, 5, 19, 17, 48, 48)}, {'allergen_id': 64, 'allergen_type': 'MOLD', 'allergen_name': 'Helminthosporium', 'count': 22, 'created_date': datetime.datetime(2018, 5, 19, 17, 48, 48)}, {'allergen_id': 65, 'allergen_type': 'MOLD', 'allergen_name': 'Stemphilium', 'count': 10, 'created_date': datetime.datetime(2018, 5, 19, 17, 48, 48)}, {'allergen_id': 66, 'allergen_type': 'MOLD', 'allergen_name': 'Epicoccum', 'count': 99, 'created_date': datetime.datetime(2018, 5, 19, 17, 48, 48)}, {'allergen_id': 67, 'allergen_type': 'MOLD', 'allergen_name': 'Tetraploa', 'count': 4, 'created_date': datetime.datetime(2018, 5, 19, 17, 48, 48)}, {'allergen_id': 68, 'allergen_type': 'MOLD', 'allergen_name': 'Nigrospora', 'count': 14, 'created_date': datetime.datetime(2018, 5, 19, 17, 48, 48)}, {'allergen_id': 69, 'allergen_type': 'MOLD', 'allergen_name': 'Torula', 'count': 24, 'created_date': datetime.datetime(2018, 5, 19, 17, 48, 48)}, {'allergen_id': 70, 'allergen_type': 'TREE', 'allergen_name': 'Maple', 'count': 0, 'created_date': datetime.datetime(2018, 5, 19, 17, 51, 41)}, {'allergen_id': 71, 'allergen_type': 'TREE', 'allergen_name': 'Mulberry', 'count': 0, 'created_date': datetime.datetime(2018, 5, 19, 17, 51, 41)}, {'allergen_id': 72, 'allergen_type': 'TREE', 'allergen_name': 'Alder', 'count': 0, 'created_date': datetime.datetime(2018, 5, 19, 17, 51, 41)}, {'allergen_id': 73, 'allergen_type': 'TREE', 'allergen_name': 'Pine', 'count': 2, 'created_date': datetime.datetime(2018, 5, 19, 17, 51, 41)}, {'allergen_id': 74, 'allergen_type': 'TREE', 'allergen_name': 'Birch', 'count': 0, 'created_date': datetime.datetime(2018, 5, 19, 17, 51, 41)}, {'allergen_id': 75, 'allergen_type': 'TREE', 'allergen_name': 'Sycamore', 'count': 0, 'created_date': datetime.datetime(2018, 5, 19, 17, 51, 41)}, {'allergen_id': 76, 'allergen_type': 'TREE', 'allergen_name': 'Hickory, Pecan', 'count': 6, 'created_date': datetime.datetime(2018, 5, 19, 17, 51, 41)}, {'allergen_id': 77, 'allergen_type': 'TREE', 'allergen_name': 'Cottonwood', 'count': 0, 'created_date': datetime.datetime(2018, 5, 19, 17, 51, 41)}, {'allergen_id': 78, 'allergen_type': 'TREE', 'allergen_name': 'Hackberry', 'count': 0, 'created_date': datetime.datetime(2018, 5, 19, 17, 51, 41)}, {'allergen_id': 79, 'allergen_type': 'TREE', 'allergen_name': 'Oak', 'count': 0, 'created_date': datetime.datetime(2018, 5, 19, 17, 51, 41)}, {'allergen_id': 80, 'allergen_type': 'TREE', 'allergen_name': 'Hazelnut', 'count': 0, 'created_date': datetime.datetime(2018, 5, 19, 17, 51, 41)}, {'allergen_id': 81, 'allergen_type': 'TREE', 'allergen_name': 'Willow', 'count': 0, 'created_date': datetime.datetime(2018, 5, 19, 17, 51, 41)}, {'allergen_id': 82, 'allergen_type': 'TREE', 'allergen_name': 'Cedar', 'count': 0, 'created_date': datetime.datetime(2018, 5, 19, 17, 51, 41)}, {'allergen_id': 83, 'allergen_type': 'TREE', 'allergen_name': 'Linden', 'count': 0, 'created_date': datetime.datetime(2018, 5, 19, 17, 51, 41)}, {'allergen_id': 84, 'allergen_type': 'TREE', 'allergen_name': 'Ash', 'count': 0, 'created_date': datetime.datetime(2018, 5, 19, 17, 51, 41)}, {'allergen_id': 85, 'allergen_type': 'TREE', 'allergen_name': 'Elm', 'count': 0, 'created_date': datetime.datetime(2018, 5, 19, 17, 51, 41)}, {'allergen_id': 86, 'allergen_type': 'TREE', 'allergen_name': 'Walnut', 'count': 0, 'created_date': datetime.datetime(2018, 5, 19, 17, 51, 41)}, {'allergen_id': 87, 'allergen_type': 'TREE', 'allergen_name': 'Sweet Gum', 'count': 0, 'created_date': datetime.datetime(2018, 5, 19, 17, 51, 41)}, {'allergen_id': 88, 'allergen_type': 'TREE', 'allergen_name': 'Other Tree Pollen/Unknown', 'count': 2, 'created_date': datetime.datetime(2018, 5, 19, 17, 51, 41)}, {'allergen_id': 89, 'allergen_type': 'WEED', 'allergen_name': 'Ragweed', 'count': 0, 'created_date': datetime.datetime(2018, 5, 19, 17, 51, 41)}, {'allergen_id': 90, 'allergen_type': 'WEED', 'allergen_name': 'Plantain', 'count': 6, 'created_date': datetime.datetime(2018, 5, 19, 17, 51, 41)}, {'allergen_id': 91, 'allergen_type': 'WEED', 'allergen_name': 'Sage', 'count': 6, 'created_date': datetime.datetime(2018, 5, 19, 17, 51, 41)}, {'allergen_id': 92, 'allergen_type': 'WEED', 'allergen_name': 'Sheep Sorel', 'count': 0, 'created_date': datetime.datetime(2018, 5, 19, 17, 51, 41)}, {'allergen_id': 93, 'allergen_type': 'WEED', 'allergen_name': 'Aster', 'count': 0, 'created_date': datetime.datetime(2018, 5, 19, 17, 51, 41)}, {'allergen_id': 94, 'allergen_type': 'WEED', 'allergen_name': 'Cattail', 'count': 0, 'created_date': datetime.datetime(2018, 5, 19, 17, 51, 41)}, {'allergen_id': 95, 'allergen_type': 'WEED', 'allergen_name': 'Amaranth', 'count': 0, 'created_date': datetime.datetime(2018, 5, 19, 17, 51, 41)}, {'allergen_id': 96, 'allergen_type': 'WEED', 'allergen_name': 'Nettle', 'count': 8, 'created_date': datetime.datetime(2018, 5, 19, 17, 51, 41)}, {'allergen_id': 97, 'allergen_type': 'WEED', 'allergen_name': 'Sedge', 'count': 2, 'created_date': datetime.datetime(2018, 5, 19, 17, 51, 41)}, {'allergen_id': 98, 'allergen_type': 'WEED', 'allergen_name': 'Other Weed Pollen', 'count': 10, 'created_date': datetime.datetime(2018, 5, 19, 17, 51, 41)}, {'allergen_id': 99, 'allergen_type': 'WEED', 'allergen_name': 'Algae', 'count': 54, 'created_date': datetime.datetime(2018, 5, 19, 17, 51, 41)}, {'allergen_id': 100, 'allergen_type': 'WEED', 'allergen_name': 'Erysiphe', 'count': 0, 'created_date': datetime.datetime(2018, 5, 19, 17, 51, 41)}, {'allergen_id': 101, 'allergen_type': 'WEED', 'allergen_name': 'Alternaria', 'count': 157, 'created_date': datetime.datetime(2018, 5, 19, 17, 51, 41)}, {'allergen_id': 102, 'allergen_type': 'WEED', 'allergen_name': 'Aspergillus', 'count': 0, 'created_date': datetime.datetime(2018, 5, 19, 17, 51, 41)}, {'allergen_id': 103, 'allergen_type': 'WEED', 'allergen_name': 'Ascopores', 'count': 2357, 'created_date': datetime.datetime(2018, 5, 19, 17, 51, 41)}, {'allergen_id': 104, 'allergen_type': 'WEED', 'allergen_name': 'Periconia', 'count': 16, 'created_date': datetime.datetime(2018, 5, 19, 17, 51, 41)}, {'allergen_id': 105, 'allergen_type': 'WEED', 'allergen_name': 'Basidiospores', 'count': 194, 'created_date': datetime.datetime(2018, 5, 19, 17, 51, 41)}, {'allergen_id': 106, 'allergen_type': 'WEED', 'allergen_name': 'Pithomyces', 'count': 0, 'created_date': datetime.datetime(2018, 5, 19, 17, 51, 41)}, {'allergen_id': 107, 'allergen_type': 'WEED', 'allergen_name': 'Cercospora', 'count': 52, 'created_date': datetime.datetime(2018, 5, 19, 17, 51, 41)}, {'allergen_id': 108, 'allergen_type': 'WEED', 'allergen_name': 'Rusts', 'count': 16, 'created_date': datetime.datetime(2018, 5, 19, 17, 51, 41)}, {'allergen_id': 109, 'allergen_type': 'WEED', 'allergen_name': 'Cladosporium', 'count': 5431, 'created_date': datetime.datetime(2018, 5, 19, 17, 51, 41)}, {'allergen_id': 110, 'allergen_type': 'WEED', 'allergen_name': 'Myxomycetes', 'count': 226, 'created_date': datetime.datetime(2018, 5, 19, 17, 51, 41)}, {'allergen_id': 111, 'allergen_type': 'WEED', 'allergen_name': 'Curvularia', 'count': 18, 'created_date': datetime.datetime(2018, 5, 19, 17, 51, 41)}, {'allergen_id': 112, 'allergen_type': 'WEED', 'allergen_name': 'Spegazzinia', 'count': 6, 'created_date': datetime.datetime(2018, 5, 19, 17, 51, 41)}, {'allergen_id': 113, 'allergen_type': 'WEED', 'allergen_name': 'Helminthosporium', 'count': 22, 'created_date': datetime.datetime(2018, 5, 19, 17, 51, 41)}, {'allergen_id': 114, 'allergen_type': 'WEED', 'allergen_name': 'Stemphilium', 'count': 10, 'created_date': datetime.datetime(2018, 5, 19, 17, 51, 41)}, {'allergen_id': 115, 'allergen_type': 'WEED', 'allergen_name': 'Epicoccum', 'count': 99, 'created_date': datetime.datetime(2018, 5, 19, 17, 51, 41)}, {'allergen_id': 116, 'allergen_type': 'WEED', 'allergen_name': 'Tetraploa', 'count': 4, 'created_date': datetime.datetime(2018, 5, 19, 17, 51, 41)}, {'allergen_id': 117, 'allergen_type': 'WEED', 'allergen_name': 'Nigrospora', 'count': 14, 'created_date': datetime.datetime(2018, 5, 19, 17, 51, 41)}, {'allergen_id': 118, 'allergen_type': 'WEED', 'allergen_name': 'Torula', 'count': 24, 'created_date': datetime.datetime(2018, 5, 19, 17, 51, 41)}, {'allergen_id': 119, 'allergen_type': 'MOLD', 'allergen_name': 'Algae', 'count': 54, 'created_date': datetime.datetime(2018, 5, 19, 17, 51, 41)}, {'allergen_id': 120, 'allergen_type': 'MOLD', 'allergen_name': 'Erysiphe', 'count': 0, 'created_date': datetime.datetime(2018, 5, 19, 17, 51, 41)}, {'allergen_id': 121, 'allergen_type': 'MOLD', 'allergen_name': 'Alternaria', 'count': 157, 'created_date': datetime.datetime(2018, 5, 19, 17, 51, 41)}, {'allergen_id': 122, 'allergen_type': 'MOLD', 'allergen_name': 'Aspergillus', 'count': 0, 'created_date': datetime.datetime(2018, 5, 19, 17, 51, 41)}, {'allergen_id': 123, 'allergen_type': 'MOLD', 'allergen_name': 'Ascopores', 'count': 2357, 'created_date': datetime.datetime(2018, 5, 19, 17, 51, 41)}, {'allergen_id': 124, 'allergen_type': 'MOLD', 'allergen_name': 'Periconia', 'count': 16, 'created_date': datetime.datetime(2018, 5, 19, 17, 51, 41)}, {'allergen_id': 125, 'allergen_type': 'MOLD', 'allergen_name': 'Basidiospores', 'count': 194, 'created_date': datetime.datetime(2018, 5, 19, 17, 51, 41)}, {'allergen_id': 126, 'allergen_type': 'MOLD', 'allergen_name': 'Pithomyces', 'count': 0, 'created_date': datetime.datetime(2018, 5, 19, 17, 51, 41)}, {'allergen_id': 127, 'allergen_type': 'MOLD', 'allergen_name': 'Cercospora', 'count': 52, 'created_date': datetime.datetime(2018, 5, 19, 17, 51, 41)}, {'allergen_id': 128, 'allergen_type': 'MOLD', 'allergen_name': 'Rusts', 'count': 16, 'created_date': datetime.datetime(2018, 5, 19, 17, 51, 41)}, {'allergen_id': 129, 'allergen_type': 'MOLD', 'allergen_name': 'Cladosporium', 'count': 5431, 'created_date': datetime.datetime(2018, 5, 19, 17, 51, 41)}, {'allergen_id': 130, 'allergen_type': 'MOLD', 'allergen_name': 'Myxomycetes', 'count': 226, 'created_date': datetime.datetime(2018, 5, 19, 17, 51, 41)}, {'allergen_id': 131, 'allergen_type': 'MOLD', 'allergen_name': 'Curvularia', 'count': 18, 'created_date': datetime.datetime(2018, 5, 19, 17, 51, 41)}, {'allergen_id': 132, 'allergen_type': 'MOLD', 'allergen_name': 'Spegazzinia', 'count': 6, 'created_date': datetime.datetime(2018, 5, 19, 17, 51, 41)}, {'allergen_id': 133, 'allergen_type': 'MOLD', 'allergen_name': 'Helminthosporium', 'count': 22, 'created_date': datetime.datetime(2018, 5, 19, 17, 51, 41)}, {'allergen_id': 134, 'allergen_type': 'MOLD', 'allergen_name': 'Stemphilium', 'count': 10, 'created_date': datetime.datetime(2018, 5, 19, 17, 51, 41)}, {'allergen_id': 135, 'allergen_type': 'MOLD', 'allergen_name': 'Epicoccum', 'count': 99, 'created_date': datetime.datetime(2018, 5, 19, 17, 51, 41)}, {'allergen_id': 136, 'allergen_type': 'MOLD', 'allergen_name': 'Tetraploa', 'count': 4, 'created_date': datetime.datetime(2018, 5, 19, 17, 51, 41)}, {'allergen_id': 137, 'allergen_type': 'MOLD', 'allergen_name': 'Nigrospora', 'count': 14, 'created_date': datetime.datetime(2018, 5, 19, 17, 51, 41)}, {'allergen_id': 138, 'allergen_type': 'MOLD', 'allergen_name': 'Torula', 'count': 24, 'created_date': datetime.datetime(2018, 5, 19, 17, 51, 41)}]\n"
     ]
    }
   ],
   "source": [
    "cursor.execute(\"\"\"select * from allergens\"\"\")\n",
    "print(cursor.fetchall())"
   ]
  },
  {
   "cell_type": "code",
   "execution_count": null,
   "metadata": {},
   "outputs": [],
   "source": []
  }
 ],
 "metadata": {
  "kernelspec": {
   "display_name": "Python 3",
   "language": "python",
   "name": "python3"
  },
  "language_info": {
   "codemirror_mode": {
    "name": "ipython",
    "version": 3
   },
   "file_extension": ".py",
   "mimetype": "text/x-python",
   "name": "python",
   "nbconvert_exporter": "python",
   "pygments_lexer": "ipython3",
   "version": "3.6.5"
  }
 },
 "nbformat": 4,
 "nbformat_minor": 2
}
