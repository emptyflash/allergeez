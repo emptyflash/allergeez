{
 "cells": [
  {
   "cell_type": "code",
   "execution_count": 8,
   "metadata": {},
   "outputs": [
    {
     "name": "stdout",
     "output_type": "stream",
     "text": [
      "Requirement already satisfied: beautifulsoup4 in /usr/local/lib/python3.6/site-packages (4.6.0)\n",
      "Requirement already satisfied: requests in /usr/local/lib/python3.6/site-packages (2.11.1)\n",
      "Requirement already satisfied: lxml in /usr/local/lib/python3.6/site-packages (3.7.2)\n"
     ]
    }
   ],
   "source": [
    "!pip3 install beautifulsoup4\n",
    "!pip3 install requests\n",
    "!pip3 install lxml"
   ]
  },
  {
   "cell_type": "code",
   "execution_count": 28,
   "metadata": {},
   "outputs": [],
   "source": [
    "from bs4 import BeautifulSoup\n",
    "import requests\n",
    "from datetime import datetime"
   ]
  },
  {
   "cell_type": "code",
   "execution_count": 29,
   "metadata": {},
   "outputs": [],
   "source": [
    "req  = requests.get(\"http://www.houstontx.gov/health/Pollen-Mold/index.html\")\n",
    "soup = BeautifulSoup(req.text, \"lxml\")"
   ]
  },
  {
   "cell_type": "code",
   "execution_count": 130,
   "metadata": {},
   "outputs": [],
   "source": [
    "table1=soup.find_all('table')[1]"
   ]
  },
  {
   "cell_type": "code",
   "execution_count": 229,
   "metadata": {},
   "outputs": [
    {
     "name": "stdout",
     "output_type": "stream",
     "text": [
      "0 tree 10\n",
      "1 weed 32\n",
      "2 grass 10\n",
      "3 mold 8700\n"
     ]
    }
   ],
   "source": [
    "labels=['tree', 'weed','grass','mold']\n",
    "for i in range(4):\n",
    "    table1sel=table1.findAll(\"td\")[i].findAll(\"strong\")[0]\n",
    "    a=[x.strip() for x in table1sel.contents if getattr(x, 'name', None) != 'br'][-1]\n",
    "    print(i, labels[i], int(a.replace(',' , '')))"
   ]
  },
  {
   "cell_type": "code",
   "execution_count": 155,
   "metadata": {},
   "outputs": [],
   "source": [
    "table2=soup.find_all('table')[2]"
   ]
  },
  {
   "cell_type": "code",
   "execution_count": 227,
   "metadata": {},
   "outputs": [],
   "source": [
    "#table2.findAll(\"td\", {'width':'35%'})"
   ]
  },
  {
   "cell_type": "code",
   "execution_count": 228,
   "metadata": {},
   "outputs": [],
   "source": [
    "#table2.findAll(\"td\", {'width':'35%'})[0].findAll(\"strong\")[0].contents[0].strip()"
   ]
  },
  {
   "cell_type": "code",
   "execution_count": 211,
   "metadata": {},
   "outputs": [
    {
     "name": "stdout",
     "output_type": "stream",
     "text": [
      "Acer (Maple) 0\n",
      "Morus (Mulberry) 0\n",
      "Alnus (Alder) 0\n",
      "Pinaceae (Pine) 2\n",
      "Betula (Birch) 0\n",
      "Platanus (Sycamore) 0\n",
      "Carya (Hickory, Pecan) 6\n",
      "Populus (Cottonwood) 0\n",
      "Celtis (Hackberry) 0\n",
      "Quercus (Oak) 0\n",
      "Corylus (Hazelnut) 0\n",
      "Salix (Willow) 0\n",
      "Cupressaceae (Cedar) 0\n",
      "Tilia (Linden) 0\n",
      "Fraxinus (Ash) 0\n",
      "Ulmus (Elm) 0\n",
      "Juglans (Walnut) 0\n",
      "Liquidamber (Sweet Gum) 0\n",
      "Other Tree Pollen/Unknown 2\n"
     ]
    }
   ],
   "source": [
    "for i in range(20):\n",
    "    a=table2.findAll(\"td\", {'width':'35%'})[i].findAll(\"strong\")[0].contents[0].strip()\n",
    "    if len(a)>0:\n",
    "        b=table2.findAll(\"td\", {'align':'left'})[i].findAll(\"strong\")[0].findAll(text=True)\n",
    "        print(a,int(b[0]))"
   ]
  },
  {
   "cell_type": "code",
   "execution_count": 231,
   "metadata": {},
   "outputs": [],
   "source": []
  },
  {
   "cell_type": "code",
   "execution_count": 241,
   "metadata": {},
   "outputs": [
    {
     "name": "stdout",
     "output_type": "stream",
     "text": [
      "Maple Acer\n"
     ]
    }
   ],
   "source": [
    "i=0\n",
    "a=table2.findAll(\"td\", {'width':'35%'})[i].findAll(\"strong\")[0].contents[0].strip()\n",
    "\n",
    "print(a.split('(')[-1].replace(')',''), a.split(' (')[0])"
   ]
  },
  {
   "cell_type": "code",
   "execution_count": 367,
   "metadata": {},
   "outputs": [
    {
     "name": "stdout",
     "output_type": "stream",
     "text": [
      "Tree Maple\n",
      "Tree Mulberry\n",
      "Tree Alder\n",
      "Tree Pine\n",
      "Tree Birch\n",
      "Tree Sycamore\n",
      "Tree Hickory, Pecan\n",
      "Tree Cottonwood\n",
      "Tree Hackberry\n",
      "Tree Oak\n",
      "Tree Hazelnut\n",
      "Tree Willow\n",
      "Tree Cedar\n",
      "Tree Linden\n",
      "Tree Ash\n",
      "Tree Elm\n",
      "Tree Walnut\n",
      "Tree Sweet Gum\n",
      "Tree Other Tree Pollen/Unknown\n"
     ]
    }
   ],
   "source": [
    "tree_pollen={}\n",
    "for i in range(20):\n",
    "    a=table2.findAll(\"td\", {'width':'35%'})[i].findAll(\"strong\")[0].contents[0].strip()\n",
    "    a_name=a.split('(')[-1].replace(')','')\n",
    "    if len(a)>0:\n",
    "        b=table2.findAll(\"td\", {'align':'left'})[i].findAll(\"strong\")[0].findAll(text=True)\n",
    "        #print(a_name,int(b[0]))\n",
    "        tree_pollen[a_name]=int(b[0])\n",
    "        print('Tree', a_name)\n",
    "        "
   ]
  },
  {
   "cell_type": "code",
   "execution_count": 257,
   "metadata": {},
   "outputs": [
    {
     "data": {
      "text/plain": [
       "{'Maple': 0,\n",
       " 'Mulberry': 0,\n",
       " 'Alder': 0,\n",
       " 'Pine': 2,\n",
       " 'Birch': 0,\n",
       " 'Sycamore': 0,\n",
       " 'Hickory, Pecan': 6,\n",
       " 'Cottonwood': 0,\n",
       " 'Hackberry': 0,\n",
       " 'Oak': 0,\n",
       " 'Hazelnut': 0,\n",
       " 'Willow': 0,\n",
       " 'Cedar': 0,\n",
       " 'Linden': 0,\n",
       " 'Ash': 0,\n",
       " 'Elm': 0,\n",
       " 'Walnut': 0,\n",
       " 'Sweet Gum': 0,\n",
       " 'Other Tree Pollen/Unknown': 2}"
      ]
     },
     "execution_count": 257,
     "metadata": {},
     "output_type": "execute_result"
    }
   ],
   "source": [
    "tree_pollen"
   ]
  },
  {
   "cell_type": "code",
   "execution_count": 258,
   "metadata": {},
   "outputs": [
    {
     "data": {
      "text/plain": [
       "10"
      ]
     },
     "execution_count": 258,
     "metadata": {},
     "output_type": "execute_result"
    }
   ],
   "source": [
    "sum(list(tree_pollen.values()))"
   ]
  },
  {
   "cell_type": "code",
   "execution_count": 368,
   "metadata": {},
   "outputs": [
    {
     "name": "stdout",
     "output_type": "stream",
     "text": [
      "weed Ragweed\n",
      "weed Plantain\n",
      "weed Sage\n",
      "weed Sheep Sorel\n",
      "weed Aster\n",
      "weed Cattail\n",
      "weed Amaranth\n",
      "weed Nettle\n",
      "weed Sedge\n",
      "weed Other Weed Pollen\n"
     ]
    }
   ],
   "source": [
    "weed_pollen={}\n",
    "table3=soup.find_all('table')[3]\n",
    "#table3\n",
    "for i in range(10):\n",
    "    a=table3.findAll(\"td\", {'width':'35%'})[i].findAll(\"strong\")[0].contents[0].strip()\n",
    "    a_name=a.split('(')[-1].replace(')','')\n",
    "    if len(a)>0:\n",
    "        b=table3.findAll(\"td\", {'align':'left'})[i].findAll(\"strong\")[0].findAll(text=True)\n",
    "        print('weed', a_name)#,int(b[0]))\n",
    "        weed_pollen[a_name]=int(b[0])"
   ]
  },
  {
   "cell_type": "code",
   "execution_count": 261,
   "metadata": {},
   "outputs": [
    {
     "data": {
      "text/plain": [
       "{'Ragweed': 0,\n",
       " 'Plantain': 6,\n",
       " 'Sage': 6,\n",
       " 'Sheep Sorel': 0,\n",
       " 'Aster': 0,\n",
       " 'Cattail': 0,\n",
       " 'Amaranth': 0,\n",
       " 'Nettle': 8,\n",
       " 'Sedge': 2,\n",
       " 'Other Weed Pollen': 10}"
      ]
     },
     "execution_count": 261,
     "metadata": {},
     "output_type": "execute_result"
    }
   ],
   "source": [
    "weed_pollen"
   ]
  },
  {
   "cell_type": "code",
   "execution_count": 260,
   "metadata": {},
   "outputs": [
    {
     "data": {
      "text/plain": [
       "32"
      ]
     },
     "execution_count": 260,
     "metadata": {},
     "output_type": "execute_result"
    }
   ],
   "source": [
    "sum(list(weed_pollen.values()))"
   ]
  },
  {
   "cell_type": "code",
   "execution_count": 219,
   "metadata": {},
   "outputs": [],
   "source": []
  },
  {
   "cell_type": "code",
   "execution_count": 369,
   "metadata": {},
   "outputs": [
    {
     "name": "stdout",
     "output_type": "stream",
     "text": [
      "mold Algae\n",
      "mold Erysiphe\n",
      "mold Alternaria\n",
      "mold Aspergillus\n",
      "mold Ascopores\n",
      "mold Periconia\n",
      "mold Basidiospores\n",
      "mold Pithomyces\n",
      "mold Cercospora\n",
      "mold Rusts\n",
      "mold Cladosporium\n",
      "mold Myxomycetes\n",
      "mold Curvularia\n",
      "mold Spegazzinia\n",
      "mold Helminthosporium\n",
      "mold Stemphilium\n",
      "mold Epicoccum\n",
      "mold Tetraploa\n",
      "mold Nigrospora\n",
      "mold Torula\n"
     ]
    }
   ],
   "source": [
    "mold_pollen={}\n",
    "table4=soup.find_all('table')[4]\n",
    "for i in range(20):\n",
    "    a=table4.findAll(\"td\", {'width':'35%'})[i].findAll(\"strong\")[0].contents[0].strip()\n",
    "    if len(a)>0:\n",
    "        a_name=a.split('/')[-1]\n",
    "        b=table4.findAll(\"td\", {'align':'left'})[i].findAll(\"strong\")[0].findAll(text=True)\n",
    "        b2=[x for x in b if getattr(x, 'name', None) != 'br'][-1]\n",
    "        mold_pollen[a_name]=int(b2.replace(',' , ''))\n",
    "        print('mold', a_name)#, ,int(b2.replace(',' , '')))"
   ]
  },
  {
   "cell_type": "code",
   "execution_count": 266,
   "metadata": {},
   "outputs": [
    {
     "data": {
      "text/plain": [
       "{'Algae': 54,\n",
       " 'Erysiphe': 0,\n",
       " 'Alternaria': 157,\n",
       " 'Aspergillus': 0,\n",
       " 'Ascopores': 2357,\n",
       " 'Periconia': 16,\n",
       " 'Basidiospores': 194,\n",
       " 'Pithomyces': 0,\n",
       " 'Cercospora': 52,\n",
       " 'Rusts': 16,\n",
       " 'Cladosporium': 5431,\n",
       " 'Myxomycetes': 226,\n",
       " 'Curvularia': 18,\n",
       " 'Spegazzinia': 6,\n",
       " 'Helminthosporium': 22,\n",
       " 'Stemphilium': 10,\n",
       " 'Epicoccum': 99,\n",
       " 'Tetraploa': 4,\n",
       " 'Nigrospora': 14,\n",
       " 'Torula': 24}"
      ]
     },
     "execution_count": 266,
     "metadata": {},
     "output_type": "execute_result"
    }
   ],
   "source": [
    "mold_pollen"
   ]
  },
  {
   "cell_type": "code",
   "execution_count": 267,
   "metadata": {},
   "outputs": [
    {
     "data": {
      "text/plain": [
       "8700"
      ]
     },
     "execution_count": 267,
     "metadata": {},
     "output_type": "execute_result"
    }
   ],
   "source": [
    "sum(list(mold_pollen.values()))"
   ]
  },
  {
   "cell_type": "code",
   "execution_count": 278,
   "metadata": {},
   "outputs": [],
   "source": [
    "import pymysql"
   ]
  },
  {
   "cell_type": "code",
   "execution_count": 280,
   "metadata": {},
   "outputs": [],
   "source": [
    "db = pymysql.connect(host='localhost',\n",
    "                             user='root',\n",
    "                             password='',\n",
    "                             db='db',\n",
    "                             charset='utf8mb4',\n",
    "                             cursorclass=pymysql.cursors.DictCursor)"
   ]
  },
  {
   "cell_type": "code",
   "execution_count": 352,
   "metadata": {},
   "outputs": [
    {
     "data": {
      "text/plain": [
       "0"
      ]
     },
     "execution_count": 352,
     "metadata": {},
     "output_type": "execute_result"
    }
   ],
   "source": [
    "cursor = db.cursor()\n",
    "cursor.execute(\"\"\"DROP TABLE `allergens`;\"\"\")"
   ]
  },
  {
   "cell_type": "code",
   "execution_count": 353,
   "metadata": {},
   "outputs": [
    {
     "data": {
      "text/plain": [
       "0"
      ]
     },
     "execution_count": 353,
     "metadata": {},
     "output_type": "execute_result"
    }
   ],
   "source": [
    "cursor = db.cursor()\n",
    "cursor.execute(\"\"\"CREATE TABLE IF NOT EXISTS `allergens` (\n",
    "  `allergen_id` int(11) PRIMARY KEY AUTO_INCREMENT,\n",
    "  `allergen_type` varchar(255) DEFAULT NULL,\n",
    "  `allergen_name` varchar(255) DEFAULT NULL,\n",
    "  `count` int(11) DEFAULT NULL,\n",
    "  `created_date` timestamp NOT NULL DEFAULT CURRENT_TIMESTAMP ON UPDATE CURRENT_TIMESTAMP\n",
    ") ENGINE=MyISAM DEFAULT CHARSET=latin1 COMMENT='HACKATHON';\"\"\")"
   ]
  },
  {
   "cell_type": "code",
   "execution_count": 354,
   "metadata": {},
   "outputs": [],
   "source": [
    "db.commit()"
   ]
  },
  {
   "cell_type": "code",
   "execution_count": 339,
   "metadata": {},
   "outputs": [],
   "source": [
    "#cursor.execute(\"\"\"INSERT INTO `allergens` \n",
    "#( `allergen_type`, `allergen_name`, `count`, `created_date`) VALUES \n",
    "#( 'TREE', 'MAPLE', 0, '2018-05-19 20:33:58')\"\"\")\n",
    "#db.commit()"
   ]
  },
  {
   "cell_type": "code",
   "execution_count": 355,
   "metadata": {},
   "outputs": [
    {
     "name": "stdout",
     "output_type": "stream",
     "text": [
      "None\n"
     ]
    }
   ],
   "source": [
    "cursor.execute(\"\"\"select * from allergens\"\"\")\n",
    "print(cursor.fetchone())\n"
   ]
  },
  {
   "cell_type": "code",
   "execution_count": 356,
   "metadata": {},
   "outputs": [],
   "source": [
    "#str_db=\"\"\"INSERT INTO `allergens` \n",
    "#(`allergen_type`, `allergen_name`, `count`, `created_date`) VALUES \"\"\""
   ]
  },
  {
   "cell_type": "code",
   "execution_count": 357,
   "metadata": {},
   "outputs": [],
   "source": [
    "#i=0\n",
    "#time=str(datetime.now())\n",
    "#str_2=\"\"\"('%s', '%s', %s, '%s'),\"\"\" % ('TREE', list(tree_pollen.keys())[0], list(tree_pollen.values())[0], time)\n",
    "#str_db=str_db+str_2\n",
    "#str_db"
   ]
  },
  {
   "cell_type": "code",
   "execution_count": 358,
   "metadata": {},
   "outputs": [],
   "source": [
    "#len(tree_pollen)\n",
    "#for i,(k,v) in enumerate(tree_pollen.items()):\n",
    "#    print(i,k,v)"
   ]
  },
  {
   "cell_type": "code",
   "execution_count": 363,
   "metadata": {},
   "outputs": [
    {
     "data": {
      "text/plain": [
       "\"INSERT INTO `allergens` \\n(`allergen_type`, `allergen_name`, `count`, `created_date`) VALUES ('TREE', 'Maple', 0, '2018-05-19 17:51:41.442128'),('TREE', 'Mulberry', 0, '2018-05-19 17:51:41.442128'),('TREE', 'Alder', 0, '2018-05-19 17:51:41.442128'),('TREE', 'Pine', 2, '2018-05-19 17:51:41.442128'),('TREE', 'Birch', 0, '2018-05-19 17:51:41.442128'),('TREE', 'Sycamore', 0, '2018-05-19 17:51:41.442128'),('TREE', 'Hickory, Pecan', 6, '2018-05-19 17:51:41.442128'),('TREE', 'Cottonwood', 0, '2018-05-19 17:51:41.442128'),('TREE', 'Hackberry', 0, '2018-05-19 17:51:41.442128'),('TREE', 'Oak', 0, '2018-05-19 17:51:41.442128'),('TREE', 'Hazelnut', 0, '2018-05-19 17:51:41.442128'),('TREE', 'Willow', 0, '2018-05-19 17:51:41.442128'),('TREE', 'Cedar', 0, '2018-05-19 17:51:41.442128'),('TREE', 'Linden', 0, '2018-05-19 17:51:41.442128'),('TREE', 'Ash', 0, '2018-05-19 17:51:41.442128'),('TREE', 'Elm', 0, '2018-05-19 17:51:41.442128'),('TREE', 'Walnut', 0, '2018-05-19 17:51:41.442128'),('TREE', 'Sweet Gum', 0, '2018-05-19 17:51:41.442128'),('TREE', 'Other Tree Pollen/Unknown', 2, '2018-05-19 17:51:41.442128'),('WEED', 'Ragweed', 0, '2018-05-19 17:51:41.442128'),('WEED', 'Plantain', 6, '2018-05-19 17:51:41.442128'),('WEED', 'Sage', 6, '2018-05-19 17:51:41.442128'),('WEED', 'Sheep Sorel', 0, '2018-05-19 17:51:41.442128'),('WEED', 'Aster', 0, '2018-05-19 17:51:41.442128'),('WEED', 'Cattail', 0, '2018-05-19 17:51:41.442128'),('WEED', 'Amaranth', 0, '2018-05-19 17:51:41.442128'),('WEED', 'Nettle', 8, '2018-05-19 17:51:41.442128'),('WEED', 'Sedge', 2, '2018-05-19 17:51:41.442128'),('WEED', 'Other Weed Pollen', 10, '2018-05-19 17:51:41.442128'),('WEED', 'Algae', 54, '2018-05-19 17:51:41.442128'),('WEED', 'Erysiphe', 0, '2018-05-19 17:51:41.442128'),('WEED', 'Alternaria', 157, '2018-05-19 17:51:41.442128'),('WEED', 'Aspergillus', 0, '2018-05-19 17:51:41.442128'),('WEED', 'Ascopores', 2357, '2018-05-19 17:51:41.442128'),('WEED', 'Periconia', 16, '2018-05-19 17:51:41.442128'),('WEED', 'Basidiospores', 194, '2018-05-19 17:51:41.442128'),('WEED', 'Pithomyces', 0, '2018-05-19 17:51:41.442128'),('WEED', 'Cercospora', 52, '2018-05-19 17:51:41.442128'),('WEED', 'Rusts', 16, '2018-05-19 17:51:41.442128'),('WEED', 'Cladosporium', 5431, '2018-05-19 17:51:41.442128'),('WEED', 'Myxomycetes', 226, '2018-05-19 17:51:41.442128'),('WEED', 'Curvularia', 18, '2018-05-19 17:51:41.442128'),('WEED', 'Spegazzinia', 6, '2018-05-19 17:51:41.442128'),('WEED', 'Helminthosporium', 22, '2018-05-19 17:51:41.442128'),('WEED', 'Stemphilium', 10, '2018-05-19 17:51:41.442128'),('WEED', 'Epicoccum', 99, '2018-05-19 17:51:41.442128'),('WEED', 'Tetraploa', 4, '2018-05-19 17:51:41.442128'),('WEED', 'Nigrospora', 14, '2018-05-19 17:51:41.442128'),('WEED', 'Torula', 24, '2018-05-19 17:51:41.442128'),('MOLD', 'Algae', 54, '2018-05-19 17:51:41.442128'),('MOLD', 'Erysiphe', 0, '2018-05-19 17:51:41.442128'),('MOLD', 'Alternaria', 157, '2018-05-19 17:51:41.442128'),('MOLD', 'Aspergillus', 0, '2018-05-19 17:51:41.442128'),('MOLD', 'Ascopores', 2357, '2018-05-19 17:51:41.442128'),('MOLD', 'Periconia', 16, '2018-05-19 17:51:41.442128'),('MOLD', 'Basidiospores', 194, '2018-05-19 17:51:41.442128'),('MOLD', 'Pithomyces', 0, '2018-05-19 17:51:41.442128'),('MOLD', 'Cercospora', 52, '2018-05-19 17:51:41.442128'),('MOLD', 'Rusts', 16, '2018-05-19 17:51:41.442128'),('MOLD', 'Cladosporium', 5431, '2018-05-19 17:51:41.442128'),('MOLD', 'Myxomycetes', 226, '2018-05-19 17:51:41.442128'),('MOLD', 'Curvularia', 18, '2018-05-19 17:51:41.442128'),('MOLD', 'Spegazzinia', 6, '2018-05-19 17:51:41.442128'),('MOLD', 'Helminthosporium', 22, '2018-05-19 17:51:41.442128'),('MOLD', 'Stemphilium', 10, '2018-05-19 17:51:41.442128'),('MOLD', 'Epicoccum', 99, '2018-05-19 17:51:41.442128'),('MOLD', 'Tetraploa', 4, '2018-05-19 17:51:41.442128'),('MOLD', 'Nigrospora', 14, '2018-05-19 17:51:41.442128'),('MOLD', 'Torula', 24, '2018-05-19 17:51:41.442128');\""
      ]
     },
     "execution_count": 363,
     "metadata": {},
     "output_type": "execute_result"
    }
   ],
   "source": [
    "str_db=\"\"\"INSERT INTO `allergens` \n",
    "(`allergen_type`, `allergen_name`, `count`, `created_date`) VALUES \"\"\"\n",
    "time=str(datetime.now())\n",
    "for i,(k,v) in enumerate(tree_pollen.items()):\n",
    "    str_2=\"\"\"('%s', '%s', %s, '%s'),\"\"\" % ('TREE', k,v, time)\n",
    "    str_db=str_db+str_2\n",
    "\n",
    "for i,(k,v) in enumerate(weed_pollen.items()):\n",
    "    str_2=\"\"\"('%s', '%s', %s, '%s'),\"\"\" % ('WEED', k,v, time)\n",
    "    str_db=str_db+str_2                                         \n",
    "\n",
    "for i,(k,v) in enumerate(mold_pollen.items()):\n",
    "    str_2=\"\"\"('%s', '%s', %s, '%s')\"\"\" % ('MOLD', k,v, time)\n",
    "    str_db=str_db+str_2\n",
    "    if i == (len(mold_pollen)-1):\n",
    "        str_db=str_db+';'\n",
    "    else:\n",
    "        str_db =str_db+','\n",
    "str_db"
   ]
  },
  {
   "cell_type": "code",
   "execution_count": 364,
   "metadata": {},
   "outputs": [],
   "source": [
    "cursor.execute(str_db)\n",
    "db.commit()"
   ]
  },
  {
   "cell_type": "code",
   "execution_count": 365,
   "metadata": {},
   "outputs": [
    {
     "name": "stdout",
     "output_type": "stream",
     "text": [
      "[{'allergen_id': 1, 'allergen_type': 'TREE', 'allergen_name': 'Maple', 'count': 0, 'created_date': datetime.datetime(2018, 5, 19, 17, 48, 48)}, {'allergen_id': 2, 'allergen_type': 'TREE', 'allergen_name': 'Mulberry', 'count': 0, 'created_date': datetime.datetime(2018, 5, 19, 17, 48, 48)}, {'allergen_id': 3, 'allergen_type': 'TREE', 'allergen_name': 'Alder', 'count': 0, 'created_date': datetime.datetime(2018, 5, 19, 17, 48, 48)}, {'allergen_id': 4, 'allergen_type': 'TREE', 'allergen_name': 'Pine', 'count': 2, 'created_date': datetime.datetime(2018, 5, 19, 17, 48, 48)}, {'allergen_id': 5, 'allergen_type': 'TREE', 'allergen_name': 'Birch', 'count': 0, 'created_date': datetime.datetime(2018, 5, 19, 17, 48, 48)}, {'allergen_id': 6, 'allergen_type': 'TREE', 'allergen_name': 'Sycamore', 'count': 0, 'created_date': datetime.datetime(2018, 5, 19, 17, 48, 48)}, {'allergen_id': 7, 'allergen_type': 'TREE', 'allergen_name': 'Hickory, Pecan', 'count': 6, 'created_date': datetime.datetime(2018, 5, 19, 17, 48, 48)}, {'allergen_id': 8, 'allergen_type': 'TREE', 'allergen_name': 'Cottonwood', 'count': 0, 'created_date': datetime.datetime(2018, 5, 19, 17, 48, 48)}, {'allergen_id': 9, 'allergen_type': 'TREE', 'allergen_name': 'Hackberry', 'count': 0, 'created_date': datetime.datetime(2018, 5, 19, 17, 48, 48)}, {'allergen_id': 10, 'allergen_type': 'TREE', 'allergen_name': 'Oak', 'count': 0, 'created_date': datetime.datetime(2018, 5, 19, 17, 48, 48)}, {'allergen_id': 11, 'allergen_type': 'TREE', 'allergen_name': 'Hazelnut', 'count': 0, 'created_date': datetime.datetime(2018, 5, 19, 17, 48, 48)}, {'allergen_id': 12, 'allergen_type': 'TREE', 'allergen_name': 'Willow', 'count': 0, 'created_date': datetime.datetime(2018, 5, 19, 17, 48, 48)}, {'allergen_id': 13, 'allergen_type': 'TREE', 'allergen_name': 'Cedar', 'count': 0, 'created_date': datetime.datetime(2018, 5, 19, 17, 48, 48)}, {'allergen_id': 14, 'allergen_type': 'TREE', 'allergen_name': 'Linden', 'count': 0, 'created_date': datetime.datetime(2018, 5, 19, 17, 48, 48)}, {'allergen_id': 15, 'allergen_type': 'TREE', 'allergen_name': 'Ash', 'count': 0, 'created_date': datetime.datetime(2018, 5, 19, 17, 48, 48)}, {'allergen_id': 16, 'allergen_type': 'TREE', 'allergen_name': 'Elm', 'count': 0, 'created_date': datetime.datetime(2018, 5, 19, 17, 48, 48)}, {'allergen_id': 17, 'allergen_type': 'TREE', 'allergen_name': 'Walnut', 'count': 0, 'created_date': datetime.datetime(2018, 5, 19, 17, 48, 48)}, {'allergen_id': 18, 'allergen_type': 'TREE', 'allergen_name': 'Sweet Gum', 'count': 0, 'created_date': datetime.datetime(2018, 5, 19, 17, 48, 48)}, {'allergen_id': 19, 'allergen_type': 'TREE', 'allergen_name': 'Other Tree Pollen/Unknown', 'count': 2, 'created_date': datetime.datetime(2018, 5, 19, 17, 48, 48)}, {'allergen_id': 20, 'allergen_type': 'WEED', 'allergen_name': 'Ragweed', 'count': 0, 'created_date': datetime.datetime(2018, 5, 19, 17, 48, 48)}, {'allergen_id': 21, 'allergen_type': 'WEED', 'allergen_name': 'Plantain', 'count': 6, 'created_date': datetime.datetime(2018, 5, 19, 17, 48, 48)}, {'allergen_id': 22, 'allergen_type': 'WEED', 'allergen_name': 'Sage', 'count': 6, 'created_date': datetime.datetime(2018, 5, 19, 17, 48, 48)}, {'allergen_id': 23, 'allergen_type': 'WEED', 'allergen_name': 'Sheep Sorel', 'count': 0, 'created_date': datetime.datetime(2018, 5, 19, 17, 48, 48)}, {'allergen_id': 24, 'allergen_type': 'WEED', 'allergen_name': 'Aster', 'count': 0, 'created_date': datetime.datetime(2018, 5, 19, 17, 48, 48)}, {'allergen_id': 25, 'allergen_type': 'WEED', 'allergen_name': 'Cattail', 'count': 0, 'created_date': datetime.datetime(2018, 5, 19, 17, 48, 48)}, {'allergen_id': 26, 'allergen_type': 'WEED', 'allergen_name': 'Amaranth', 'count': 0, 'created_date': datetime.datetime(2018, 5, 19, 17, 48, 48)}, {'allergen_id': 27, 'allergen_type': 'WEED', 'allergen_name': 'Nettle', 'count': 8, 'created_date': datetime.datetime(2018, 5, 19, 17, 48, 48)}, {'allergen_id': 28, 'allergen_type': 'WEED', 'allergen_name': 'Sedge', 'count': 2, 'created_date': datetime.datetime(2018, 5, 19, 17, 48, 48)}, {'allergen_id': 29, 'allergen_type': 'WEED', 'allergen_name': 'Other Weed Pollen', 'count': 10, 'created_date': datetime.datetime(2018, 5, 19, 17, 48, 48)}, {'allergen_id': 30, 'allergen_type': 'WEED', 'allergen_name': 'Algae', 'count': 54, 'created_date': datetime.datetime(2018, 5, 19, 17, 48, 48)}, {'allergen_id': 31, 'allergen_type': 'WEED', 'allergen_name': 'Erysiphe', 'count': 0, 'created_date': datetime.datetime(2018, 5, 19, 17, 48, 48)}, {'allergen_id': 32, 'allergen_type': 'WEED', 'allergen_name': 'Alternaria', 'count': 157, 'created_date': datetime.datetime(2018, 5, 19, 17, 48, 48)}, {'allergen_id': 33, 'allergen_type': 'WEED', 'allergen_name': 'Aspergillus', 'count': 0, 'created_date': datetime.datetime(2018, 5, 19, 17, 48, 48)}, {'allergen_id': 34, 'allergen_type': 'WEED', 'allergen_name': 'Ascopores', 'count': 2357, 'created_date': datetime.datetime(2018, 5, 19, 17, 48, 48)}, {'allergen_id': 35, 'allergen_type': 'WEED', 'allergen_name': 'Periconia', 'count': 16, 'created_date': datetime.datetime(2018, 5, 19, 17, 48, 48)}, {'allergen_id': 36, 'allergen_type': 'WEED', 'allergen_name': 'Basidiospores', 'count': 194, 'created_date': datetime.datetime(2018, 5, 19, 17, 48, 48)}, {'allergen_id': 37, 'allergen_type': 'WEED', 'allergen_name': 'Pithomyces', 'count': 0, 'created_date': datetime.datetime(2018, 5, 19, 17, 48, 48)}, {'allergen_id': 38, 'allergen_type': 'WEED', 'allergen_name': 'Cercospora', 'count': 52, 'created_date': datetime.datetime(2018, 5, 19, 17, 48, 48)}, {'allergen_id': 39, 'allergen_type': 'WEED', 'allergen_name': 'Rusts', 'count': 16, 'created_date': datetime.datetime(2018, 5, 19, 17, 48, 48)}, {'allergen_id': 40, 'allergen_type': 'WEED', 'allergen_name': 'Cladosporium', 'count': 5431, 'created_date': datetime.datetime(2018, 5, 19, 17, 48, 48)}, {'allergen_id': 41, 'allergen_type': 'WEED', 'allergen_name': 'Myxomycetes', 'count': 226, 'created_date': datetime.datetime(2018, 5, 19, 17, 48, 48)}, {'allergen_id': 42, 'allergen_type': 'WEED', 'allergen_name': 'Curvularia', 'count': 18, 'created_date': datetime.datetime(2018, 5, 19, 17, 48, 48)}, {'allergen_id': 43, 'allergen_type': 'WEED', 'allergen_name': 'Spegazzinia', 'count': 6, 'created_date': datetime.datetime(2018, 5, 19, 17, 48, 48)}, {'allergen_id': 44, 'allergen_type': 'WEED', 'allergen_name': 'Helminthosporium', 'count': 22, 'created_date': datetime.datetime(2018, 5, 19, 17, 48, 48)}, {'allergen_id': 45, 'allergen_type': 'WEED', 'allergen_name': 'Stemphilium', 'count': 10, 'created_date': datetime.datetime(2018, 5, 19, 17, 48, 48)}, {'allergen_id': 46, 'allergen_type': 'WEED', 'allergen_name': 'Epicoccum', 'count': 99, 'created_date': datetime.datetime(2018, 5, 19, 17, 48, 48)}, {'allergen_id': 47, 'allergen_type': 'WEED', 'allergen_name': 'Tetraploa', 'count': 4, 'created_date': datetime.datetime(2018, 5, 19, 17, 48, 48)}, {'allergen_id': 48, 'allergen_type': 'WEED', 'allergen_name': 'Nigrospora', 'count': 14, 'created_date': datetime.datetime(2018, 5, 19, 17, 48, 48)}, {'allergen_id': 49, 'allergen_type': 'WEED', 'allergen_name': 'Torula', 'count': 24, 'created_date': datetime.datetime(2018, 5, 19, 17, 48, 48)}, {'allergen_id': 50, 'allergen_type': 'MOLD', 'allergen_name': 'Algae', 'count': 54, 'created_date': datetime.datetime(2018, 5, 19, 17, 48, 48)}, {'allergen_id': 51, 'allergen_type': 'MOLD', 'allergen_name': 'Erysiphe', 'count': 0, 'created_date': datetime.datetime(2018, 5, 19, 17, 48, 48)}, {'allergen_id': 52, 'allergen_type': 'MOLD', 'allergen_name': 'Alternaria', 'count': 157, 'created_date': datetime.datetime(2018, 5, 19, 17, 48, 48)}, {'allergen_id': 53, 'allergen_type': 'MOLD', 'allergen_name': 'Aspergillus', 'count': 0, 'created_date': datetime.datetime(2018, 5, 19, 17, 48, 48)}, {'allergen_id': 54, 'allergen_type': 'MOLD', 'allergen_name': 'Ascopores', 'count': 2357, 'created_date': datetime.datetime(2018, 5, 19, 17, 48, 48)}, {'allergen_id': 55, 'allergen_type': 'MOLD', 'allergen_name': 'Periconia', 'count': 16, 'created_date': datetime.datetime(2018, 5, 19, 17, 48, 48)}, {'allergen_id': 56, 'allergen_type': 'MOLD', 'allergen_name': 'Basidiospores', 'count': 194, 'created_date': datetime.datetime(2018, 5, 19, 17, 48, 48)}, {'allergen_id': 57, 'allergen_type': 'MOLD', 'allergen_name': 'Pithomyces', 'count': 0, 'created_date': datetime.datetime(2018, 5, 19, 17, 48, 48)}, {'allergen_id': 58, 'allergen_type': 'MOLD', 'allergen_name': 'Cercospora', 'count': 52, 'created_date': datetime.datetime(2018, 5, 19, 17, 48, 48)}, {'allergen_id': 59, 'allergen_type': 'MOLD', 'allergen_name': 'Rusts', 'count': 16, 'created_date': datetime.datetime(2018, 5, 19, 17, 48, 48)}, {'allergen_id': 60, 'allergen_type': 'MOLD', 'allergen_name': 'Cladosporium', 'count': 5431, 'created_date': datetime.datetime(2018, 5, 19, 17, 48, 48)}, {'allergen_id': 61, 'allergen_type': 'MOLD', 'allergen_name': 'Myxomycetes', 'count': 226, 'created_date': datetime.datetime(2018, 5, 19, 17, 48, 48)}, {'allergen_id': 62, 'allergen_type': 'MOLD', 'allergen_name': 'Curvularia', 'count': 18, 'created_date': datetime.datetime(2018, 5, 19, 17, 48, 48)}, {'allergen_id': 63, 'allergen_type': 'MOLD', 'allergen_name': 'Spegazzinia', 'count': 6, 'created_date': datetime.datetime(2018, 5, 19, 17, 48, 48)}, {'allergen_id': 64, 'allergen_type': 'MOLD', 'allergen_name': 'Helminthosporium', 'count': 22, 'created_date': datetime.datetime(2018, 5, 19, 17, 48, 48)}, {'allergen_id': 65, 'allergen_type': 'MOLD', 'allergen_name': 'Stemphilium', 'count': 10, 'created_date': datetime.datetime(2018, 5, 19, 17, 48, 48)}, {'allergen_id': 66, 'allergen_type': 'MOLD', 'allergen_name': 'Epicoccum', 'count': 99, 'created_date': datetime.datetime(2018, 5, 19, 17, 48, 48)}, {'allergen_id': 67, 'allergen_type': 'MOLD', 'allergen_name': 'Tetraploa', 'count': 4, 'created_date': datetime.datetime(2018, 5, 19, 17, 48, 48)}, {'allergen_id': 68, 'allergen_type': 'MOLD', 'allergen_name': 'Nigrospora', 'count': 14, 'created_date': datetime.datetime(2018, 5, 19, 17, 48, 48)}, {'allergen_id': 69, 'allergen_type': 'MOLD', 'allergen_name': 'Torula', 'count': 24, 'created_date': datetime.datetime(2018, 5, 19, 17, 48, 48)}, {'allergen_id': 70, 'allergen_type': 'TREE', 'allergen_name': 'Maple', 'count': 0, 'created_date': datetime.datetime(2018, 5, 19, 17, 51, 41)}, {'allergen_id': 71, 'allergen_type': 'TREE', 'allergen_name': 'Mulberry', 'count': 0, 'created_date': datetime.datetime(2018, 5, 19, 17, 51, 41)}, {'allergen_id': 72, 'allergen_type': 'TREE', 'allergen_name': 'Alder', 'count': 0, 'created_date': datetime.datetime(2018, 5, 19, 17, 51, 41)}, {'allergen_id': 73, 'allergen_type': 'TREE', 'allergen_name': 'Pine', 'count': 2, 'created_date': datetime.datetime(2018, 5, 19, 17, 51, 41)}, {'allergen_id': 74, 'allergen_type': 'TREE', 'allergen_name': 'Birch', 'count': 0, 'created_date': datetime.datetime(2018, 5, 19, 17, 51, 41)}, {'allergen_id': 75, 'allergen_type': 'TREE', 'allergen_name': 'Sycamore', 'count': 0, 'created_date': datetime.datetime(2018, 5, 19, 17, 51, 41)}, {'allergen_id': 76, 'allergen_type': 'TREE', 'allergen_name': 'Hickory, Pecan', 'count': 6, 'created_date': datetime.datetime(2018, 5, 19, 17, 51, 41)}, {'allergen_id': 77, 'allergen_type': 'TREE', 'allergen_name': 'Cottonwood', 'count': 0, 'created_date': datetime.datetime(2018, 5, 19, 17, 51, 41)}, {'allergen_id': 78, 'allergen_type': 'TREE', 'allergen_name': 'Hackberry', 'count': 0, 'created_date': datetime.datetime(2018, 5, 19, 17, 51, 41)}, {'allergen_id': 79, 'allergen_type': 'TREE', 'allergen_name': 'Oak', 'count': 0, 'created_date': datetime.datetime(2018, 5, 19, 17, 51, 41)}, {'allergen_id': 80, 'allergen_type': 'TREE', 'allergen_name': 'Hazelnut', 'count': 0, 'created_date': datetime.datetime(2018, 5, 19, 17, 51, 41)}, {'allergen_id': 81, 'allergen_type': 'TREE', 'allergen_name': 'Willow', 'count': 0, 'created_date': datetime.datetime(2018, 5, 19, 17, 51, 41)}, {'allergen_id': 82, 'allergen_type': 'TREE', 'allergen_name': 'Cedar', 'count': 0, 'created_date': datetime.datetime(2018, 5, 19, 17, 51, 41)}, {'allergen_id': 83, 'allergen_type': 'TREE', 'allergen_name': 'Linden', 'count': 0, 'created_date': datetime.datetime(2018, 5, 19, 17, 51, 41)}, {'allergen_id': 84, 'allergen_type': 'TREE', 'allergen_name': 'Ash', 'count': 0, 'created_date': datetime.datetime(2018, 5, 19, 17, 51, 41)}, {'allergen_id': 85, 'allergen_type': 'TREE', 'allergen_name': 'Elm', 'count': 0, 'created_date': datetime.datetime(2018, 5, 19, 17, 51, 41)}, {'allergen_id': 86, 'allergen_type': 'TREE', 'allergen_name': 'Walnut', 'count': 0, 'created_date': datetime.datetime(2018, 5, 19, 17, 51, 41)}, {'allergen_id': 87, 'allergen_type': 'TREE', 'allergen_name': 'Sweet Gum', 'count': 0, 'created_date': datetime.datetime(2018, 5, 19, 17, 51, 41)}, {'allergen_id': 88, 'allergen_type': 'TREE', 'allergen_name': 'Other Tree Pollen/Unknown', 'count': 2, 'created_date': datetime.datetime(2018, 5, 19, 17, 51, 41)}, {'allergen_id': 89, 'allergen_type': 'WEED', 'allergen_name': 'Ragweed', 'count': 0, 'created_date': datetime.datetime(2018, 5, 19, 17, 51, 41)}, {'allergen_id': 90, 'allergen_type': 'WEED', 'allergen_name': 'Plantain', 'count': 6, 'created_date': datetime.datetime(2018, 5, 19, 17, 51, 41)}, {'allergen_id': 91, 'allergen_type': 'WEED', 'allergen_name': 'Sage', 'count': 6, 'created_date': datetime.datetime(2018, 5, 19, 17, 51, 41)}, {'allergen_id': 92, 'allergen_type': 'WEED', 'allergen_name': 'Sheep Sorel', 'count': 0, 'created_date': datetime.datetime(2018, 5, 19, 17, 51, 41)}, {'allergen_id': 93, 'allergen_type': 'WEED', 'allergen_name': 'Aster', 'count': 0, 'created_date': datetime.datetime(2018, 5, 19, 17, 51, 41)}, {'allergen_id': 94, 'allergen_type': 'WEED', 'allergen_name': 'Cattail', 'count': 0, 'created_date': datetime.datetime(2018, 5, 19, 17, 51, 41)}, {'allergen_id': 95, 'allergen_type': 'WEED', 'allergen_name': 'Amaranth', 'count': 0, 'created_date': datetime.datetime(2018, 5, 19, 17, 51, 41)}, {'allergen_id': 96, 'allergen_type': 'WEED', 'allergen_name': 'Nettle', 'count': 8, 'created_date': datetime.datetime(2018, 5, 19, 17, 51, 41)}, {'allergen_id': 97, 'allergen_type': 'WEED', 'allergen_name': 'Sedge', 'count': 2, 'created_date': datetime.datetime(2018, 5, 19, 17, 51, 41)}, {'allergen_id': 98, 'allergen_type': 'WEED', 'allergen_name': 'Other Weed Pollen', 'count': 10, 'created_date': datetime.datetime(2018, 5, 19, 17, 51, 41)}, {'allergen_id': 99, 'allergen_type': 'WEED', 'allergen_name': 'Algae', 'count': 54, 'created_date': datetime.datetime(2018, 5, 19, 17, 51, 41)}, {'allergen_id': 100, 'allergen_type': 'WEED', 'allergen_name': 'Erysiphe', 'count': 0, 'created_date': datetime.datetime(2018, 5, 19, 17, 51, 41)}, {'allergen_id': 101, 'allergen_type': 'WEED', 'allergen_name': 'Alternaria', 'count': 157, 'created_date': datetime.datetime(2018, 5, 19, 17, 51, 41)}, {'allergen_id': 102, 'allergen_type': 'WEED', 'allergen_name': 'Aspergillus', 'count': 0, 'created_date': datetime.datetime(2018, 5, 19, 17, 51, 41)}, {'allergen_id': 103, 'allergen_type': 'WEED', 'allergen_name': 'Ascopores', 'count': 2357, 'created_date': datetime.datetime(2018, 5, 19, 17, 51, 41)}, {'allergen_id': 104, 'allergen_type': 'WEED', 'allergen_name': 'Periconia', 'count': 16, 'created_date': datetime.datetime(2018, 5, 19, 17, 51, 41)}, {'allergen_id': 105, 'allergen_type': 'WEED', 'allergen_name': 'Basidiospores', 'count': 194, 'created_date': datetime.datetime(2018, 5, 19, 17, 51, 41)}, {'allergen_id': 106, 'allergen_type': 'WEED', 'allergen_name': 'Pithomyces', 'count': 0, 'created_date': datetime.datetime(2018, 5, 19, 17, 51, 41)}, {'allergen_id': 107, 'allergen_type': 'WEED', 'allergen_name': 'Cercospora', 'count': 52, 'created_date': datetime.datetime(2018, 5, 19, 17, 51, 41)}, {'allergen_id': 108, 'allergen_type': 'WEED', 'allergen_name': 'Rusts', 'count': 16, 'created_date': datetime.datetime(2018, 5, 19, 17, 51, 41)}, {'allergen_id': 109, 'allergen_type': 'WEED', 'allergen_name': 'Cladosporium', 'count': 5431, 'created_date': datetime.datetime(2018, 5, 19, 17, 51, 41)}, {'allergen_id': 110, 'allergen_type': 'WEED', 'allergen_name': 'Myxomycetes', 'count': 226, 'created_date': datetime.datetime(2018, 5, 19, 17, 51, 41)}, {'allergen_id': 111, 'allergen_type': 'WEED', 'allergen_name': 'Curvularia', 'count': 18, 'created_date': datetime.datetime(2018, 5, 19, 17, 51, 41)}, {'allergen_id': 112, 'allergen_type': 'WEED', 'allergen_name': 'Spegazzinia', 'count': 6, 'created_date': datetime.datetime(2018, 5, 19, 17, 51, 41)}, {'allergen_id': 113, 'allergen_type': 'WEED', 'allergen_name': 'Helminthosporium', 'count': 22, 'created_date': datetime.datetime(2018, 5, 19, 17, 51, 41)}, {'allergen_id': 114, 'allergen_type': 'WEED', 'allergen_name': 'Stemphilium', 'count': 10, 'created_date': datetime.datetime(2018, 5, 19, 17, 51, 41)}, {'allergen_id': 115, 'allergen_type': 'WEED', 'allergen_name': 'Epicoccum', 'count': 99, 'created_date': datetime.datetime(2018, 5, 19, 17, 51, 41)}, {'allergen_id': 116, 'allergen_type': 'WEED', 'allergen_name': 'Tetraploa', 'count': 4, 'created_date': datetime.datetime(2018, 5, 19, 17, 51, 41)}, {'allergen_id': 117, 'allergen_type': 'WEED', 'allergen_name': 'Nigrospora', 'count': 14, 'created_date': datetime.datetime(2018, 5, 19, 17, 51, 41)}, {'allergen_id': 118, 'allergen_type': 'WEED', 'allergen_name': 'Torula', 'count': 24, 'created_date': datetime.datetime(2018, 5, 19, 17, 51, 41)}, {'allergen_id': 119, 'allergen_type': 'MOLD', 'allergen_name': 'Algae', 'count': 54, 'created_date': datetime.datetime(2018, 5, 19, 17, 51, 41)}, {'allergen_id': 120, 'allergen_type': 'MOLD', 'allergen_name': 'Erysiphe', 'count': 0, 'created_date': datetime.datetime(2018, 5, 19, 17, 51, 41)}, {'allergen_id': 121, 'allergen_type': 'MOLD', 'allergen_name': 'Alternaria', 'count': 157, 'created_date': datetime.datetime(2018, 5, 19, 17, 51, 41)}, {'allergen_id': 122, 'allergen_type': 'MOLD', 'allergen_name': 'Aspergillus', 'count': 0, 'created_date': datetime.datetime(2018, 5, 19, 17, 51, 41)}, {'allergen_id': 123, 'allergen_type': 'MOLD', 'allergen_name': 'Ascopores', 'count': 2357, 'created_date': datetime.datetime(2018, 5, 19, 17, 51, 41)}, {'allergen_id': 124, 'allergen_type': 'MOLD', 'allergen_name': 'Periconia', 'count': 16, 'created_date': datetime.datetime(2018, 5, 19, 17, 51, 41)}, {'allergen_id': 125, 'allergen_type': 'MOLD', 'allergen_name': 'Basidiospores', 'count': 194, 'created_date': datetime.datetime(2018, 5, 19, 17, 51, 41)}, {'allergen_id': 126, 'allergen_type': 'MOLD', 'allergen_name': 'Pithomyces', 'count': 0, 'created_date': datetime.datetime(2018, 5, 19, 17, 51, 41)}, {'allergen_id': 127, 'allergen_type': 'MOLD', 'allergen_name': 'Cercospora', 'count': 52, 'created_date': datetime.datetime(2018, 5, 19, 17, 51, 41)}, {'allergen_id': 128, 'allergen_type': 'MOLD', 'allergen_name': 'Rusts', 'count': 16, 'created_date': datetime.datetime(2018, 5, 19, 17, 51, 41)}, {'allergen_id': 129, 'allergen_type': 'MOLD', 'allergen_name': 'Cladosporium', 'count': 5431, 'created_date': datetime.datetime(2018, 5, 19, 17, 51, 41)}, {'allergen_id': 130, 'allergen_type': 'MOLD', 'allergen_name': 'Myxomycetes', 'count': 226, 'created_date': datetime.datetime(2018, 5, 19, 17, 51, 41)}, {'allergen_id': 131, 'allergen_type': 'MOLD', 'allergen_name': 'Curvularia', 'count': 18, 'created_date': datetime.datetime(2018, 5, 19, 17, 51, 41)}, {'allergen_id': 132, 'allergen_type': 'MOLD', 'allergen_name': 'Spegazzinia', 'count': 6, 'created_date': datetime.datetime(2018, 5, 19, 17, 51, 41)}, {'allergen_id': 133, 'allergen_type': 'MOLD', 'allergen_name': 'Helminthosporium', 'count': 22, 'created_date': datetime.datetime(2018, 5, 19, 17, 51, 41)}, {'allergen_id': 134, 'allergen_type': 'MOLD', 'allergen_name': 'Stemphilium', 'count': 10, 'created_date': datetime.datetime(2018, 5, 19, 17, 51, 41)}, {'allergen_id': 135, 'allergen_type': 'MOLD', 'allergen_name': 'Epicoccum', 'count': 99, 'created_date': datetime.datetime(2018, 5, 19, 17, 51, 41)}, {'allergen_id': 136, 'allergen_type': 'MOLD', 'allergen_name': 'Tetraploa', 'count': 4, 'created_date': datetime.datetime(2018, 5, 19, 17, 51, 41)}, {'allergen_id': 137, 'allergen_type': 'MOLD', 'allergen_name': 'Nigrospora', 'count': 14, 'created_date': datetime.datetime(2018, 5, 19, 17, 51, 41)}, {'allergen_id': 138, 'allergen_type': 'MOLD', 'allergen_name': 'Torula', 'count': 24, 'created_date': datetime.datetime(2018, 5, 19, 17, 51, 41)}]\n"
     ]
    }
   ],
   "source": [
    "cursor.execute(\"\"\"select * from allergens\"\"\")\n",
    "print(cursor.fetchall())"
   ]
  },
  {
   "cell_type": "code",
   "execution_count": null,
   "metadata": {},
   "outputs": [],
   "source": []
  }
 ],
 "metadata": {
  "kernelspec": {
   "display_name": "Python 3",
   "language": "python",
   "name": "python3"
  },
  "language_info": {
   "codemirror_mode": {
    "name": "ipython",
    "version": 3
   },
   "file_extension": ".py",
   "mimetype": "text/x-python",
   "name": "python",
   "nbconvert_exporter": "python",
   "pygments_lexer": "ipython3",
   "version": "3.6.5"
  }
 },
 "nbformat": 4,
 "nbformat_minor": 2
}
